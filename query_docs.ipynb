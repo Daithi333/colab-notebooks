{
  "nbformat": 4,
  "nbformat_minor": 0,
  "metadata": {
    "colab": {
      "provenance": [],
      "gpuType": "T4",
      "authorship_tag": "ABX9TyPbA5//9k3RS/mRLvaJs8Vj",
      "include_colab_link": true
    },
    "kernelspec": {
      "name": "python3",
      "display_name": "Python 3"
    },
    "language_info": {
      "name": "python"
    },
    "accelerator": "GPU",
    "widgets": {
      "application/vnd.jupyter.widget-state+json": {
        "e37b58ccebc347178d8bb75a7a1f7c01": {
          "model_module": "@jupyter-widgets/controls",
          "model_name": "VBoxModel",
          "model_module_version": "1.5.0",
          "state": {
            "_dom_classes": [],
            "_model_module": "@jupyter-widgets/controls",
            "_model_module_version": "1.5.0",
            "_model_name": "VBoxModel",
            "_view_count": null,
            "_view_module": "@jupyter-widgets/controls",
            "_view_module_version": "1.5.0",
            "_view_name": "VBoxView",
            "box_style": "",
            "children": [
              "IPY_MODEL_4299063299de4e93881ef90d1c7d7600",
              "IPY_MODEL_5201ae7302504a5c99fee51a24f6b31c",
              "IPY_MODEL_5bca50409a42494884cec8317a311648",
              "IPY_MODEL_2190f031ca0b4e6687dfbf6f1abaf358"
            ],
            "layout": "IPY_MODEL_3e1561dca7f04f0cbc9f9daba344eb67"
          }
        },
        "0666c90451e04194bebc7d4eed8dae08": {
          "model_module": "@jupyter-widgets/controls",
          "model_name": "HTMLModel",
          "model_module_version": "1.5.0",
          "state": {
            "_dom_classes": [],
            "_model_module": "@jupyter-widgets/controls",
            "_model_module_version": "1.5.0",
            "_model_name": "HTMLModel",
            "_view_count": null,
            "_view_module": "@jupyter-widgets/controls",
            "_view_module_version": "1.5.0",
            "_view_name": "HTMLView",
            "description": "",
            "description_tooltip": null,
            "layout": "IPY_MODEL_5886f535d3b24162b423bb78ea275eab",
            "placeholder": "​",
            "style": "IPY_MODEL_5afda20747ee4b6a9cc64833783e36b5",
            "value": "<center> <img\nsrc=https://huggingface.co/front/assets/huggingface_logo-noborder.svg\nalt='Hugging Face'> <br> Copy a token from <a\nhref=\"https://huggingface.co/settings/tokens\" target=\"_blank\">your Hugging Face\ntokens page</a> and paste it below. <br> Immediately click login after copying\nyour token or it might be stored in plain text in this notebook file. </center>"
          }
        },
        "6b569bde878d4318944095229c723a34": {
          "model_module": "@jupyter-widgets/controls",
          "model_name": "PasswordModel",
          "model_module_version": "1.5.0",
          "state": {
            "_dom_classes": [],
            "_model_module": "@jupyter-widgets/controls",
            "_model_module_version": "1.5.0",
            "_model_name": "PasswordModel",
            "_view_count": null,
            "_view_module": "@jupyter-widgets/controls",
            "_view_module_version": "1.5.0",
            "_view_name": "PasswordView",
            "continuous_update": true,
            "description": "Token:",
            "description_tooltip": null,
            "disabled": false,
            "layout": "IPY_MODEL_ac60ad8a581e4e8e9a10355b13fc4770",
            "placeholder": "​",
            "style": "IPY_MODEL_d6aba1571ac0425285b4d8eeeb492ee9",
            "value": ""
          }
        },
        "bbbcdce502c64b4794bc36b9a4f34307": {
          "model_module": "@jupyter-widgets/controls",
          "model_name": "CheckboxModel",
          "model_module_version": "1.5.0",
          "state": {
            "_dom_classes": [],
            "_model_module": "@jupyter-widgets/controls",
            "_model_module_version": "1.5.0",
            "_model_name": "CheckboxModel",
            "_view_count": null,
            "_view_module": "@jupyter-widgets/controls",
            "_view_module_version": "1.5.0",
            "_view_name": "CheckboxView",
            "description": "Add token as git credential?",
            "description_tooltip": null,
            "disabled": false,
            "indent": true,
            "layout": "IPY_MODEL_40f0bad2829b47238a03dd5c0ba378ee",
            "style": "IPY_MODEL_01f9adc708f444be8f6e335722d89bd6",
            "value": true
          }
        },
        "dc2dc59ce3e14829ae04a1620cfecfe4": {
          "model_module": "@jupyter-widgets/controls",
          "model_name": "ButtonModel",
          "model_module_version": "1.5.0",
          "state": {
            "_dom_classes": [],
            "_model_module": "@jupyter-widgets/controls",
            "_model_module_version": "1.5.0",
            "_model_name": "ButtonModel",
            "_view_count": null,
            "_view_module": "@jupyter-widgets/controls",
            "_view_module_version": "1.5.0",
            "_view_name": "ButtonView",
            "button_style": "",
            "description": "Login",
            "disabled": false,
            "icon": "",
            "layout": "IPY_MODEL_945e3f2490f74480a61cbed804aa0476",
            "style": "IPY_MODEL_2619cc0415b54608987c5cf60c960651",
            "tooltip": ""
          }
        },
        "7e698fad49474bf78d51dc8078f63ddb": {
          "model_module": "@jupyter-widgets/controls",
          "model_name": "HTMLModel",
          "model_module_version": "1.5.0",
          "state": {
            "_dom_classes": [],
            "_model_module": "@jupyter-widgets/controls",
            "_model_module_version": "1.5.0",
            "_model_name": "HTMLModel",
            "_view_count": null,
            "_view_module": "@jupyter-widgets/controls",
            "_view_module_version": "1.5.0",
            "_view_name": "HTMLView",
            "description": "",
            "description_tooltip": null,
            "layout": "IPY_MODEL_1357628e80434e5dbd67adfcb9f395fe",
            "placeholder": "​",
            "style": "IPY_MODEL_2d6a21a75bb64a9fa228ac2ea969ea96",
            "value": "\n<b>Pro Tip:</b> If you don't already have one, you can create a dedicated\n'notebooks' token with 'write' access, that you can then easily reuse for all\nnotebooks. </center>"
          }
        },
        "3e1561dca7f04f0cbc9f9daba344eb67": {
          "model_module": "@jupyter-widgets/base",
          "model_name": "LayoutModel",
          "model_module_version": "1.2.0",
          "state": {
            "_model_module": "@jupyter-widgets/base",
            "_model_module_version": "1.2.0",
            "_model_name": "LayoutModel",
            "_view_count": null,
            "_view_module": "@jupyter-widgets/base",
            "_view_module_version": "1.2.0",
            "_view_name": "LayoutView",
            "align_content": null,
            "align_items": "center",
            "align_self": null,
            "border": null,
            "bottom": null,
            "display": "flex",
            "flex": null,
            "flex_flow": "column",
            "grid_area": null,
            "grid_auto_columns": null,
            "grid_auto_flow": null,
            "grid_auto_rows": null,
            "grid_column": null,
            "grid_gap": null,
            "grid_row": null,
            "grid_template_areas": null,
            "grid_template_columns": null,
            "grid_template_rows": null,
            "height": null,
            "justify_content": null,
            "justify_items": null,
            "left": null,
            "margin": null,
            "max_height": null,
            "max_width": null,
            "min_height": null,
            "min_width": null,
            "object_fit": null,
            "object_position": null,
            "order": null,
            "overflow": null,
            "overflow_x": null,
            "overflow_y": null,
            "padding": null,
            "right": null,
            "top": null,
            "visibility": null,
            "width": "50%"
          }
        },
        "5886f535d3b24162b423bb78ea275eab": {
          "model_module": "@jupyter-widgets/base",
          "model_name": "LayoutModel",
          "model_module_version": "1.2.0",
          "state": {
            "_model_module": "@jupyter-widgets/base",
            "_model_module_version": "1.2.0",
            "_model_name": "LayoutModel",
            "_view_count": null,
            "_view_module": "@jupyter-widgets/base",
            "_view_module_version": "1.2.0",
            "_view_name": "LayoutView",
            "align_content": null,
            "align_items": null,
            "align_self": null,
            "border": null,
            "bottom": null,
            "display": null,
            "flex": null,
            "flex_flow": null,
            "grid_area": null,
            "grid_auto_columns": null,
            "grid_auto_flow": null,
            "grid_auto_rows": null,
            "grid_column": null,
            "grid_gap": null,
            "grid_row": null,
            "grid_template_areas": null,
            "grid_template_columns": null,
            "grid_template_rows": null,
            "height": null,
            "justify_content": null,
            "justify_items": null,
            "left": null,
            "margin": null,
            "max_height": null,
            "max_width": null,
            "min_height": null,
            "min_width": null,
            "object_fit": null,
            "object_position": null,
            "order": null,
            "overflow": null,
            "overflow_x": null,
            "overflow_y": null,
            "padding": null,
            "right": null,
            "top": null,
            "visibility": null,
            "width": null
          }
        },
        "5afda20747ee4b6a9cc64833783e36b5": {
          "model_module": "@jupyter-widgets/controls",
          "model_name": "DescriptionStyleModel",
          "model_module_version": "1.5.0",
          "state": {
            "_model_module": "@jupyter-widgets/controls",
            "_model_module_version": "1.5.0",
            "_model_name": "DescriptionStyleModel",
            "_view_count": null,
            "_view_module": "@jupyter-widgets/base",
            "_view_module_version": "1.2.0",
            "_view_name": "StyleView",
            "description_width": ""
          }
        },
        "ac60ad8a581e4e8e9a10355b13fc4770": {
          "model_module": "@jupyter-widgets/base",
          "model_name": "LayoutModel",
          "model_module_version": "1.2.0",
          "state": {
            "_model_module": "@jupyter-widgets/base",
            "_model_module_version": "1.2.0",
            "_model_name": "LayoutModel",
            "_view_count": null,
            "_view_module": "@jupyter-widgets/base",
            "_view_module_version": "1.2.0",
            "_view_name": "LayoutView",
            "align_content": null,
            "align_items": null,
            "align_self": null,
            "border": null,
            "bottom": null,
            "display": null,
            "flex": null,
            "flex_flow": null,
            "grid_area": null,
            "grid_auto_columns": null,
            "grid_auto_flow": null,
            "grid_auto_rows": null,
            "grid_column": null,
            "grid_gap": null,
            "grid_row": null,
            "grid_template_areas": null,
            "grid_template_columns": null,
            "grid_template_rows": null,
            "height": null,
            "justify_content": null,
            "justify_items": null,
            "left": null,
            "margin": null,
            "max_height": null,
            "max_width": null,
            "min_height": null,
            "min_width": null,
            "object_fit": null,
            "object_position": null,
            "order": null,
            "overflow": null,
            "overflow_x": null,
            "overflow_y": null,
            "padding": null,
            "right": null,
            "top": null,
            "visibility": null,
            "width": null
          }
        },
        "d6aba1571ac0425285b4d8eeeb492ee9": {
          "model_module": "@jupyter-widgets/controls",
          "model_name": "DescriptionStyleModel",
          "model_module_version": "1.5.0",
          "state": {
            "_model_module": "@jupyter-widgets/controls",
            "_model_module_version": "1.5.0",
            "_model_name": "DescriptionStyleModel",
            "_view_count": null,
            "_view_module": "@jupyter-widgets/base",
            "_view_module_version": "1.2.0",
            "_view_name": "StyleView",
            "description_width": ""
          }
        },
        "40f0bad2829b47238a03dd5c0ba378ee": {
          "model_module": "@jupyter-widgets/base",
          "model_name": "LayoutModel",
          "model_module_version": "1.2.0",
          "state": {
            "_model_module": "@jupyter-widgets/base",
            "_model_module_version": "1.2.0",
            "_model_name": "LayoutModel",
            "_view_count": null,
            "_view_module": "@jupyter-widgets/base",
            "_view_module_version": "1.2.0",
            "_view_name": "LayoutView",
            "align_content": null,
            "align_items": null,
            "align_self": null,
            "border": null,
            "bottom": null,
            "display": null,
            "flex": null,
            "flex_flow": null,
            "grid_area": null,
            "grid_auto_columns": null,
            "grid_auto_flow": null,
            "grid_auto_rows": null,
            "grid_column": null,
            "grid_gap": null,
            "grid_row": null,
            "grid_template_areas": null,
            "grid_template_columns": null,
            "grid_template_rows": null,
            "height": null,
            "justify_content": null,
            "justify_items": null,
            "left": null,
            "margin": null,
            "max_height": null,
            "max_width": null,
            "min_height": null,
            "min_width": null,
            "object_fit": null,
            "object_position": null,
            "order": null,
            "overflow": null,
            "overflow_x": null,
            "overflow_y": null,
            "padding": null,
            "right": null,
            "top": null,
            "visibility": null,
            "width": null
          }
        },
        "01f9adc708f444be8f6e335722d89bd6": {
          "model_module": "@jupyter-widgets/controls",
          "model_name": "DescriptionStyleModel",
          "model_module_version": "1.5.0",
          "state": {
            "_model_module": "@jupyter-widgets/controls",
            "_model_module_version": "1.5.0",
            "_model_name": "DescriptionStyleModel",
            "_view_count": null,
            "_view_module": "@jupyter-widgets/base",
            "_view_module_version": "1.2.0",
            "_view_name": "StyleView",
            "description_width": ""
          }
        },
        "945e3f2490f74480a61cbed804aa0476": {
          "model_module": "@jupyter-widgets/base",
          "model_name": "LayoutModel",
          "model_module_version": "1.2.0",
          "state": {
            "_model_module": "@jupyter-widgets/base",
            "_model_module_version": "1.2.0",
            "_model_name": "LayoutModel",
            "_view_count": null,
            "_view_module": "@jupyter-widgets/base",
            "_view_module_version": "1.2.0",
            "_view_name": "LayoutView",
            "align_content": null,
            "align_items": null,
            "align_self": null,
            "border": null,
            "bottom": null,
            "display": null,
            "flex": null,
            "flex_flow": null,
            "grid_area": null,
            "grid_auto_columns": null,
            "grid_auto_flow": null,
            "grid_auto_rows": null,
            "grid_column": null,
            "grid_gap": null,
            "grid_row": null,
            "grid_template_areas": null,
            "grid_template_columns": null,
            "grid_template_rows": null,
            "height": null,
            "justify_content": null,
            "justify_items": null,
            "left": null,
            "margin": null,
            "max_height": null,
            "max_width": null,
            "min_height": null,
            "min_width": null,
            "object_fit": null,
            "object_position": null,
            "order": null,
            "overflow": null,
            "overflow_x": null,
            "overflow_y": null,
            "padding": null,
            "right": null,
            "top": null,
            "visibility": null,
            "width": null
          }
        },
        "2619cc0415b54608987c5cf60c960651": {
          "model_module": "@jupyter-widgets/controls",
          "model_name": "ButtonStyleModel",
          "model_module_version": "1.5.0",
          "state": {
            "_model_module": "@jupyter-widgets/controls",
            "_model_module_version": "1.5.0",
            "_model_name": "ButtonStyleModel",
            "_view_count": null,
            "_view_module": "@jupyter-widgets/base",
            "_view_module_version": "1.2.0",
            "_view_name": "StyleView",
            "button_color": null,
            "font_weight": ""
          }
        },
        "1357628e80434e5dbd67adfcb9f395fe": {
          "model_module": "@jupyter-widgets/base",
          "model_name": "LayoutModel",
          "model_module_version": "1.2.0",
          "state": {
            "_model_module": "@jupyter-widgets/base",
            "_model_module_version": "1.2.0",
            "_model_name": "LayoutModel",
            "_view_count": null,
            "_view_module": "@jupyter-widgets/base",
            "_view_module_version": "1.2.0",
            "_view_name": "LayoutView",
            "align_content": null,
            "align_items": null,
            "align_self": null,
            "border": null,
            "bottom": null,
            "display": null,
            "flex": null,
            "flex_flow": null,
            "grid_area": null,
            "grid_auto_columns": null,
            "grid_auto_flow": null,
            "grid_auto_rows": null,
            "grid_column": null,
            "grid_gap": null,
            "grid_row": null,
            "grid_template_areas": null,
            "grid_template_columns": null,
            "grid_template_rows": null,
            "height": null,
            "justify_content": null,
            "justify_items": null,
            "left": null,
            "margin": null,
            "max_height": null,
            "max_width": null,
            "min_height": null,
            "min_width": null,
            "object_fit": null,
            "object_position": null,
            "order": null,
            "overflow": null,
            "overflow_x": null,
            "overflow_y": null,
            "padding": null,
            "right": null,
            "top": null,
            "visibility": null,
            "width": null
          }
        },
        "2d6a21a75bb64a9fa228ac2ea969ea96": {
          "model_module": "@jupyter-widgets/controls",
          "model_name": "DescriptionStyleModel",
          "model_module_version": "1.5.0",
          "state": {
            "_model_module": "@jupyter-widgets/controls",
            "_model_module_version": "1.5.0",
            "_model_name": "DescriptionStyleModel",
            "_view_count": null,
            "_view_module": "@jupyter-widgets/base",
            "_view_module_version": "1.2.0",
            "_view_name": "StyleView",
            "description_width": ""
          }
        },
        "0f60d526e31840a8848a6ea757fdddb9": {
          "model_module": "@jupyter-widgets/controls",
          "model_name": "LabelModel",
          "model_module_version": "1.5.0",
          "state": {
            "_dom_classes": [],
            "_model_module": "@jupyter-widgets/controls",
            "_model_module_version": "1.5.0",
            "_model_name": "LabelModel",
            "_view_count": null,
            "_view_module": "@jupyter-widgets/controls",
            "_view_module_version": "1.5.0",
            "_view_name": "LabelView",
            "description": "",
            "description_tooltip": null,
            "layout": "IPY_MODEL_4e2818810b064c5488c42aaefa6c1a48",
            "placeholder": "​",
            "style": "IPY_MODEL_921159d8d9e44cec82ebb66046172d7d",
            "value": "Connecting..."
          }
        },
        "4e2818810b064c5488c42aaefa6c1a48": {
          "model_module": "@jupyter-widgets/base",
          "model_name": "LayoutModel",
          "model_module_version": "1.2.0",
          "state": {
            "_model_module": "@jupyter-widgets/base",
            "_model_module_version": "1.2.0",
            "_model_name": "LayoutModel",
            "_view_count": null,
            "_view_module": "@jupyter-widgets/base",
            "_view_module_version": "1.2.0",
            "_view_name": "LayoutView",
            "align_content": null,
            "align_items": null,
            "align_self": null,
            "border": null,
            "bottom": null,
            "display": null,
            "flex": null,
            "flex_flow": null,
            "grid_area": null,
            "grid_auto_columns": null,
            "grid_auto_flow": null,
            "grid_auto_rows": null,
            "grid_column": null,
            "grid_gap": null,
            "grid_row": null,
            "grid_template_areas": null,
            "grid_template_columns": null,
            "grid_template_rows": null,
            "height": null,
            "justify_content": null,
            "justify_items": null,
            "left": null,
            "margin": null,
            "max_height": null,
            "max_width": null,
            "min_height": null,
            "min_width": null,
            "object_fit": null,
            "object_position": null,
            "order": null,
            "overflow": null,
            "overflow_x": null,
            "overflow_y": null,
            "padding": null,
            "right": null,
            "top": null,
            "visibility": null,
            "width": null
          }
        },
        "921159d8d9e44cec82ebb66046172d7d": {
          "model_module": "@jupyter-widgets/controls",
          "model_name": "DescriptionStyleModel",
          "model_module_version": "1.5.0",
          "state": {
            "_model_module": "@jupyter-widgets/controls",
            "_model_module_version": "1.5.0",
            "_model_name": "DescriptionStyleModel",
            "_view_count": null,
            "_view_module": "@jupyter-widgets/base",
            "_view_module_version": "1.2.0",
            "_view_name": "StyleView",
            "description_width": ""
          }
        },
        "4299063299de4e93881ef90d1c7d7600": {
          "model_module": "@jupyter-widgets/controls",
          "model_name": "LabelModel",
          "model_module_version": "1.5.0",
          "state": {
            "_dom_classes": [],
            "_model_module": "@jupyter-widgets/controls",
            "_model_module_version": "1.5.0",
            "_model_name": "LabelModel",
            "_view_count": null,
            "_view_module": "@jupyter-widgets/controls",
            "_view_module_version": "1.5.0",
            "_view_name": "LabelView",
            "description": "",
            "description_tooltip": null,
            "layout": "IPY_MODEL_8467eca841e74475876165b976b5855f",
            "placeholder": "​",
            "style": "IPY_MODEL_a463964135c14f849ff4e2204293056a",
            "value": "Token is valid (permission: write)."
          }
        },
        "5201ae7302504a5c99fee51a24f6b31c": {
          "model_module": "@jupyter-widgets/controls",
          "model_name": "LabelModel",
          "model_module_version": "1.5.0",
          "state": {
            "_dom_classes": [],
            "_model_module": "@jupyter-widgets/controls",
            "_model_module_version": "1.5.0",
            "_model_name": "LabelModel",
            "_view_count": null,
            "_view_module": "@jupyter-widgets/controls",
            "_view_module_version": "1.5.0",
            "_view_name": "LabelView",
            "description": "",
            "description_tooltip": null,
            "layout": "IPY_MODEL_fb9c58290b4c468fa81a10e84246baa8",
            "placeholder": "​",
            "style": "IPY_MODEL_bc6c62445c0a45989e1a4412b4967ffe",
            "value": "Your token has been saved in your configured git credential helpers (store)."
          }
        },
        "5bca50409a42494884cec8317a311648": {
          "model_module": "@jupyter-widgets/controls",
          "model_name": "LabelModel",
          "model_module_version": "1.5.0",
          "state": {
            "_dom_classes": [],
            "_model_module": "@jupyter-widgets/controls",
            "_model_module_version": "1.5.0",
            "_model_name": "LabelModel",
            "_view_count": null,
            "_view_module": "@jupyter-widgets/controls",
            "_view_module_version": "1.5.0",
            "_view_name": "LabelView",
            "description": "",
            "description_tooltip": null,
            "layout": "IPY_MODEL_05023164ca38436f93b1ed900f0b723e",
            "placeholder": "​",
            "style": "IPY_MODEL_b08fe869b38441e3b2b22326cbf719e6",
            "value": "Your token has been saved to /root/.cache/huggingface/token"
          }
        },
        "2190f031ca0b4e6687dfbf6f1abaf358": {
          "model_module": "@jupyter-widgets/controls",
          "model_name": "LabelModel",
          "model_module_version": "1.5.0",
          "state": {
            "_dom_classes": [],
            "_model_module": "@jupyter-widgets/controls",
            "_model_module_version": "1.5.0",
            "_model_name": "LabelModel",
            "_view_count": null,
            "_view_module": "@jupyter-widgets/controls",
            "_view_module_version": "1.5.0",
            "_view_name": "LabelView",
            "description": "",
            "description_tooltip": null,
            "layout": "IPY_MODEL_ea0f93514bfd446ab3f7342ccda43ed4",
            "placeholder": "​",
            "style": "IPY_MODEL_2023d45d07434eb9b9c592c719d0faf8",
            "value": "Login successful"
          }
        },
        "8467eca841e74475876165b976b5855f": {
          "model_module": "@jupyter-widgets/base",
          "model_name": "LayoutModel",
          "model_module_version": "1.2.0",
          "state": {
            "_model_module": "@jupyter-widgets/base",
            "_model_module_version": "1.2.0",
            "_model_name": "LayoutModel",
            "_view_count": null,
            "_view_module": "@jupyter-widgets/base",
            "_view_module_version": "1.2.0",
            "_view_name": "LayoutView",
            "align_content": null,
            "align_items": null,
            "align_self": null,
            "border": null,
            "bottom": null,
            "display": null,
            "flex": null,
            "flex_flow": null,
            "grid_area": null,
            "grid_auto_columns": null,
            "grid_auto_flow": null,
            "grid_auto_rows": null,
            "grid_column": null,
            "grid_gap": null,
            "grid_row": null,
            "grid_template_areas": null,
            "grid_template_columns": null,
            "grid_template_rows": null,
            "height": null,
            "justify_content": null,
            "justify_items": null,
            "left": null,
            "margin": null,
            "max_height": null,
            "max_width": null,
            "min_height": null,
            "min_width": null,
            "object_fit": null,
            "object_position": null,
            "order": null,
            "overflow": null,
            "overflow_x": null,
            "overflow_y": null,
            "padding": null,
            "right": null,
            "top": null,
            "visibility": null,
            "width": null
          }
        },
        "a463964135c14f849ff4e2204293056a": {
          "model_module": "@jupyter-widgets/controls",
          "model_name": "DescriptionStyleModel",
          "model_module_version": "1.5.0",
          "state": {
            "_model_module": "@jupyter-widgets/controls",
            "_model_module_version": "1.5.0",
            "_model_name": "DescriptionStyleModel",
            "_view_count": null,
            "_view_module": "@jupyter-widgets/base",
            "_view_module_version": "1.2.0",
            "_view_name": "StyleView",
            "description_width": ""
          }
        },
        "fb9c58290b4c468fa81a10e84246baa8": {
          "model_module": "@jupyter-widgets/base",
          "model_name": "LayoutModel",
          "model_module_version": "1.2.0",
          "state": {
            "_model_module": "@jupyter-widgets/base",
            "_model_module_version": "1.2.0",
            "_model_name": "LayoutModel",
            "_view_count": null,
            "_view_module": "@jupyter-widgets/base",
            "_view_module_version": "1.2.0",
            "_view_name": "LayoutView",
            "align_content": null,
            "align_items": null,
            "align_self": null,
            "border": null,
            "bottom": null,
            "display": null,
            "flex": null,
            "flex_flow": null,
            "grid_area": null,
            "grid_auto_columns": null,
            "grid_auto_flow": null,
            "grid_auto_rows": null,
            "grid_column": null,
            "grid_gap": null,
            "grid_row": null,
            "grid_template_areas": null,
            "grid_template_columns": null,
            "grid_template_rows": null,
            "height": null,
            "justify_content": null,
            "justify_items": null,
            "left": null,
            "margin": null,
            "max_height": null,
            "max_width": null,
            "min_height": null,
            "min_width": null,
            "object_fit": null,
            "object_position": null,
            "order": null,
            "overflow": null,
            "overflow_x": null,
            "overflow_y": null,
            "padding": null,
            "right": null,
            "top": null,
            "visibility": null,
            "width": null
          }
        },
        "bc6c62445c0a45989e1a4412b4967ffe": {
          "model_module": "@jupyter-widgets/controls",
          "model_name": "DescriptionStyleModel",
          "model_module_version": "1.5.0",
          "state": {
            "_model_module": "@jupyter-widgets/controls",
            "_model_module_version": "1.5.0",
            "_model_name": "DescriptionStyleModel",
            "_view_count": null,
            "_view_module": "@jupyter-widgets/base",
            "_view_module_version": "1.2.0",
            "_view_name": "StyleView",
            "description_width": ""
          }
        },
        "05023164ca38436f93b1ed900f0b723e": {
          "model_module": "@jupyter-widgets/base",
          "model_name": "LayoutModel",
          "model_module_version": "1.2.0",
          "state": {
            "_model_module": "@jupyter-widgets/base",
            "_model_module_version": "1.2.0",
            "_model_name": "LayoutModel",
            "_view_count": null,
            "_view_module": "@jupyter-widgets/base",
            "_view_module_version": "1.2.0",
            "_view_name": "LayoutView",
            "align_content": null,
            "align_items": null,
            "align_self": null,
            "border": null,
            "bottom": null,
            "display": null,
            "flex": null,
            "flex_flow": null,
            "grid_area": null,
            "grid_auto_columns": null,
            "grid_auto_flow": null,
            "grid_auto_rows": null,
            "grid_column": null,
            "grid_gap": null,
            "grid_row": null,
            "grid_template_areas": null,
            "grid_template_columns": null,
            "grid_template_rows": null,
            "height": null,
            "justify_content": null,
            "justify_items": null,
            "left": null,
            "margin": null,
            "max_height": null,
            "max_width": null,
            "min_height": null,
            "min_width": null,
            "object_fit": null,
            "object_position": null,
            "order": null,
            "overflow": null,
            "overflow_x": null,
            "overflow_y": null,
            "padding": null,
            "right": null,
            "top": null,
            "visibility": null,
            "width": null
          }
        },
        "b08fe869b38441e3b2b22326cbf719e6": {
          "model_module": "@jupyter-widgets/controls",
          "model_name": "DescriptionStyleModel",
          "model_module_version": "1.5.0",
          "state": {
            "_model_module": "@jupyter-widgets/controls",
            "_model_module_version": "1.5.0",
            "_model_name": "DescriptionStyleModel",
            "_view_count": null,
            "_view_module": "@jupyter-widgets/base",
            "_view_module_version": "1.2.0",
            "_view_name": "StyleView",
            "description_width": ""
          }
        },
        "ea0f93514bfd446ab3f7342ccda43ed4": {
          "model_module": "@jupyter-widgets/base",
          "model_name": "LayoutModel",
          "model_module_version": "1.2.0",
          "state": {
            "_model_module": "@jupyter-widgets/base",
            "_model_module_version": "1.2.0",
            "_model_name": "LayoutModel",
            "_view_count": null,
            "_view_module": "@jupyter-widgets/base",
            "_view_module_version": "1.2.0",
            "_view_name": "LayoutView",
            "align_content": null,
            "align_items": null,
            "align_self": null,
            "border": null,
            "bottom": null,
            "display": null,
            "flex": null,
            "flex_flow": null,
            "grid_area": null,
            "grid_auto_columns": null,
            "grid_auto_flow": null,
            "grid_auto_rows": null,
            "grid_column": null,
            "grid_gap": null,
            "grid_row": null,
            "grid_template_areas": null,
            "grid_template_columns": null,
            "grid_template_rows": null,
            "height": null,
            "justify_content": null,
            "justify_items": null,
            "left": null,
            "margin": null,
            "max_height": null,
            "max_width": null,
            "min_height": null,
            "min_width": null,
            "object_fit": null,
            "object_position": null,
            "order": null,
            "overflow": null,
            "overflow_x": null,
            "overflow_y": null,
            "padding": null,
            "right": null,
            "top": null,
            "visibility": null,
            "width": null
          }
        },
        "2023d45d07434eb9b9c592c719d0faf8": {
          "model_module": "@jupyter-widgets/controls",
          "model_name": "DescriptionStyleModel",
          "model_module_version": "1.5.0",
          "state": {
            "_model_module": "@jupyter-widgets/controls",
            "_model_module_version": "1.5.0",
            "_model_name": "DescriptionStyleModel",
            "_view_count": null,
            "_view_module": "@jupyter-widgets/base",
            "_view_module_version": "1.2.0",
            "_view_name": "StyleView",
            "description_width": ""
          }
        }
      }
    }
  },
  "cells": [
    {
      "cell_type": "markdown",
      "metadata": {
        "id": "view-in-github",
        "colab_type": "text"
      },
      "source": [
        "<a href=\"https://colab.research.google.com/github/Daithi333/colab-notebooks/blob/main/query_docs.ipynb\" target=\"_parent\"><img src=\"https://colab.research.google.com/assets/colab-badge.svg\" alt=\"Open In Colab\"/></a>"
      ]
    },
    {
      "cell_type": "code",
      "execution_count": null,
      "metadata": {
        "id": "g0LLxe4hojp9"
      },
      "outputs": [],
      "source": [
        "!pip -q install langchain\n",
        "!pip -q install bitsandbytes accelerate xformers einops\n",
        "!pip -q install datasets loralib sentencepiece\n",
        "!pip -q install pypdf\n",
        "!pip -q install sentence_transformers"
      ]
    },
    {
      "cell_type": "code",
      "source": [
        "!pip install chromadb"
      ],
      "metadata": {
        "colab": {
          "base_uri": "https://localhost:8080/"
        },
        "id": "xQfxxTFmpmRg",
        "outputId": "41006d8d-084d-4216-b605-23ac4cc9f8a1"
      },
      "execution_count": null,
      "outputs": [
        {
          "output_type": "stream",
          "name": "stdout",
          "text": [
            "Requirement already satisfied: chromadb in /usr/local/lib/python3.10/dist-packages (0.4.10)\n",
            "Requirement already satisfied: requests>=2.28 in /usr/local/lib/python3.10/dist-packages (from chromadb) (2.31.0)\n",
            "Requirement already satisfied: pydantic<2.0,>=1.9 in /usr/local/lib/python3.10/dist-packages (from chromadb) (1.10.12)\n",
            "Requirement already satisfied: chroma-hnswlib==0.7.3 in /usr/local/lib/python3.10/dist-packages (from chromadb) (0.7.3)\n",
            "Requirement already satisfied: fastapi<0.100.0,>=0.95.2 in /usr/local/lib/python3.10/dist-packages (from chromadb) (0.99.1)\n",
            "Requirement already satisfied: uvicorn[standard]>=0.18.3 in /usr/local/lib/python3.10/dist-packages (from chromadb) (0.23.2)\n",
            "Requirement already satisfied: posthog>=2.4.0 in /usr/local/lib/python3.10/dist-packages (from chromadb) (3.0.2)\n",
            "Requirement already satisfied: typing-extensions>=4.5.0 in /usr/local/lib/python3.10/dist-packages (from chromadb) (4.5.0)\n",
            "Requirement already satisfied: pulsar-client>=3.1.0 in /usr/local/lib/python3.10/dist-packages (from chromadb) (3.3.0)\n",
            "Requirement already satisfied: onnxruntime>=1.14.1 in /usr/local/lib/python3.10/dist-packages (from chromadb) (1.15.1)\n",
            "Requirement already satisfied: tokenizers>=0.13.2 in /usr/local/lib/python3.10/dist-packages (from chromadb) (0.13.3)\n",
            "Requirement already satisfied: pypika>=0.48.9 in /usr/local/lib/python3.10/dist-packages (from chromadb) (0.48.9)\n",
            "Requirement already satisfied: tqdm>=4.65.0 in /usr/local/lib/python3.10/dist-packages (from chromadb) (4.66.1)\n",
            "Requirement already satisfied: overrides>=7.3.1 in /usr/local/lib/python3.10/dist-packages (from chromadb) (7.4.0)\n",
            "Requirement already satisfied: importlib-resources in /usr/local/lib/python3.10/dist-packages (from chromadb) (6.0.1)\n",
            "Requirement already satisfied: bcrypt>=4.0.1 in /usr/local/lib/python3.10/dist-packages (from chromadb) (4.0.1)\n",
            "Requirement already satisfied: numpy>=1.22.5 in /usr/local/lib/python3.10/dist-packages (from chromadb) (1.23.5)\n",
            "Requirement already satisfied: starlette<0.28.0,>=0.27.0 in /usr/local/lib/python3.10/dist-packages (from fastapi<0.100.0,>=0.95.2->chromadb) (0.27.0)\n",
            "Requirement already satisfied: coloredlogs in /usr/local/lib/python3.10/dist-packages (from onnxruntime>=1.14.1->chromadb) (15.0.1)\n",
            "Requirement already satisfied: flatbuffers in /usr/local/lib/python3.10/dist-packages (from onnxruntime>=1.14.1->chromadb) (23.5.26)\n",
            "Requirement already satisfied: packaging in /usr/local/lib/python3.10/dist-packages (from onnxruntime>=1.14.1->chromadb) (23.1)\n",
            "Requirement already satisfied: protobuf in /usr/local/lib/python3.10/dist-packages (from onnxruntime>=1.14.1->chromadb) (3.20.3)\n",
            "Requirement already satisfied: sympy in /usr/local/lib/python3.10/dist-packages (from onnxruntime>=1.14.1->chromadb) (1.12)\n",
            "Requirement already satisfied: six>=1.5 in /usr/local/lib/python3.10/dist-packages (from posthog>=2.4.0->chromadb) (1.16.0)\n",
            "Requirement already satisfied: monotonic>=1.5 in /usr/local/lib/python3.10/dist-packages (from posthog>=2.4.0->chromadb) (1.6)\n",
            "Requirement already satisfied: backoff>=1.10.0 in /usr/local/lib/python3.10/dist-packages (from posthog>=2.4.0->chromadb) (2.2.1)\n",
            "Requirement already satisfied: python-dateutil>2.1 in /usr/local/lib/python3.10/dist-packages (from posthog>=2.4.0->chromadb) (2.8.2)\n",
            "Requirement already satisfied: certifi in /usr/local/lib/python3.10/dist-packages (from pulsar-client>=3.1.0->chromadb) (2023.7.22)\n",
            "Requirement already satisfied: charset-normalizer<4,>=2 in /usr/local/lib/python3.10/dist-packages (from requests>=2.28->chromadb) (3.2.0)\n",
            "Requirement already satisfied: idna<4,>=2.5 in /usr/local/lib/python3.10/dist-packages (from requests>=2.28->chromadb) (3.4)\n",
            "Requirement already satisfied: urllib3<3,>=1.21.1 in /usr/local/lib/python3.10/dist-packages (from requests>=2.28->chromadb) (2.0.4)\n",
            "Requirement already satisfied: click>=7.0 in /usr/local/lib/python3.10/dist-packages (from uvicorn[standard]>=0.18.3->chromadb) (8.1.7)\n",
            "Requirement already satisfied: h11>=0.8 in /usr/local/lib/python3.10/dist-packages (from uvicorn[standard]>=0.18.3->chromadb) (0.14.0)\n",
            "Requirement already satisfied: httptools>=0.5.0 in /usr/local/lib/python3.10/dist-packages (from uvicorn[standard]>=0.18.3->chromadb) (0.6.0)\n",
            "Requirement already satisfied: python-dotenv>=0.13 in /usr/local/lib/python3.10/dist-packages (from uvicorn[standard]>=0.18.3->chromadb) (1.0.0)\n",
            "Requirement already satisfied: pyyaml>=5.1 in /usr/local/lib/python3.10/dist-packages (from uvicorn[standard]>=0.18.3->chromadb) (6.0.1)\n",
            "Requirement already satisfied: uvloop!=0.15.0,!=0.15.1,>=0.14.0 in /usr/local/lib/python3.10/dist-packages (from uvicorn[standard]>=0.18.3->chromadb) (0.17.0)\n",
            "Requirement already satisfied: watchfiles>=0.13 in /usr/local/lib/python3.10/dist-packages (from uvicorn[standard]>=0.18.3->chromadb) (0.20.0)\n",
            "Requirement already satisfied: websockets>=10.4 in /usr/local/lib/python3.10/dist-packages (from uvicorn[standard]>=0.18.3->chromadb) (11.0.3)\n",
            "Requirement already satisfied: anyio<5,>=3.4.0 in /usr/local/lib/python3.10/dist-packages (from starlette<0.28.0,>=0.27.0->fastapi<0.100.0,>=0.95.2->chromadb) (3.7.1)\n",
            "Requirement already satisfied: humanfriendly>=9.1 in /usr/local/lib/python3.10/dist-packages (from coloredlogs->onnxruntime>=1.14.1->chromadb) (10.0)\n",
            "Requirement already satisfied: mpmath>=0.19 in /usr/local/lib/python3.10/dist-packages (from sympy->onnxruntime>=1.14.1->chromadb) (1.3.0)\n",
            "Requirement already satisfied: sniffio>=1.1 in /usr/local/lib/python3.10/dist-packages (from anyio<5,>=3.4.0->starlette<0.28.0,>=0.27.0->fastapi<0.100.0,>=0.95.2->chromadb) (1.3.0)\n",
            "Requirement already satisfied: exceptiongroup in /usr/local/lib/python3.10/dist-packages (from anyio<5,>=3.4.0->starlette<0.28.0,>=0.27.0->fastapi<0.100.0,>=0.95.2->chromadb) (1.1.3)\n"
          ]
        }
      ]
    },
    {
      "cell_type": "code",
      "source": [
        "!pip install openai\n",
        "!pip install tiktoken"
      ],
      "metadata": {
        "colab": {
          "base_uri": "https://localhost:8080/"
        },
        "id": "nC66kyGKqw22",
        "outputId": "86a18f29-ad9d-49e4-fe2d-7e6cf4993289"
      },
      "execution_count": null,
      "outputs": [
        {
          "output_type": "stream",
          "name": "stdout",
          "text": [
            "Requirement already satisfied: openai in /usr/local/lib/python3.10/dist-packages (0.28.0)\n",
            "Requirement already satisfied: requests>=2.20 in /usr/local/lib/python3.10/dist-packages (from openai) (2.31.0)\n",
            "Requirement already satisfied: tqdm in /usr/local/lib/python3.10/dist-packages (from openai) (4.66.1)\n",
            "Requirement already satisfied: aiohttp in /usr/local/lib/python3.10/dist-packages (from openai) (3.8.5)\n",
            "Requirement already satisfied: charset-normalizer<4,>=2 in /usr/local/lib/python3.10/dist-packages (from requests>=2.20->openai) (3.2.0)\n",
            "Requirement already satisfied: idna<4,>=2.5 in /usr/local/lib/python3.10/dist-packages (from requests>=2.20->openai) (3.4)\n",
            "Requirement already satisfied: urllib3<3,>=1.21.1 in /usr/local/lib/python3.10/dist-packages (from requests>=2.20->openai) (2.0.4)\n",
            "Requirement already satisfied: certifi>=2017.4.17 in /usr/local/lib/python3.10/dist-packages (from requests>=2.20->openai) (2023.7.22)\n",
            "Requirement already satisfied: attrs>=17.3.0 in /usr/local/lib/python3.10/dist-packages (from aiohttp->openai) (23.1.0)\n",
            "Requirement already satisfied: multidict<7.0,>=4.5 in /usr/local/lib/python3.10/dist-packages (from aiohttp->openai) (6.0.4)\n",
            "Requirement already satisfied: async-timeout<5.0,>=4.0.0a3 in /usr/local/lib/python3.10/dist-packages (from aiohttp->openai) (4.0.3)\n",
            "Requirement already satisfied: yarl<2.0,>=1.0 in /usr/local/lib/python3.10/dist-packages (from aiohttp->openai) (1.9.2)\n",
            "Requirement already satisfied: frozenlist>=1.1.1 in /usr/local/lib/python3.10/dist-packages (from aiohttp->openai) (1.4.0)\n",
            "Requirement already satisfied: aiosignal>=1.1.2 in /usr/local/lib/python3.10/dist-packages (from aiohttp->openai) (1.3.1)\n",
            "Requirement already satisfied: tiktoken in /usr/local/lib/python3.10/dist-packages (0.5.1)\n",
            "Requirement already satisfied: regex>=2022.1.18 in /usr/local/lib/python3.10/dist-packages (from tiktoken) (2023.6.3)\n",
            "Requirement already satisfied: requests>=2.26.0 in /usr/local/lib/python3.10/dist-packages (from tiktoken) (2.31.0)\n",
            "Requirement already satisfied: charset-normalizer<4,>=2 in /usr/local/lib/python3.10/dist-packages (from requests>=2.26.0->tiktoken) (3.2.0)\n",
            "Requirement already satisfied: idna<4,>=2.5 in /usr/local/lib/python3.10/dist-packages (from requests>=2.26.0->tiktoken) (3.4)\n",
            "Requirement already satisfied: urllib3<3,>=1.21.1 in /usr/local/lib/python3.10/dist-packages (from requests>=2.26.0->tiktoken) (2.0.4)\n",
            "Requirement already satisfied: certifi>=2017.4.17 in /usr/local/lib/python3.10/dist-packages (from requests>=2.26.0->tiktoken) (2023.7.22)\n"
          ]
        }
      ]
    },
    {
      "cell_type": "code",
      "source": [
        "import os\n",
        "import sys\n",
        "\n",
        "import torch\n",
        "from langchain.document_loaders import PyPDFLoader, TextLoader, Docx2txtLoader\n",
        "from langchain.text_splitter import CharacterTextSplitter\n",
        "from langchain.embeddings import HuggingFaceEmbeddings\n",
        "from langchain.vectorstores import Chroma\n",
        "from huggingface_hub import notebook_login\n",
        "from transformers import AutoTokenizer, AutoModelForCausalLM\n",
        "from transformers import pipeline\n",
        "from langchain import HuggingFacePipeline\n",
        "from langchain.chains import ConversationalRetrievalChain\n",
        "from langchain.memory import ConversationBufferMemory\n",
        "from langchain.embeddings.openai import OpenAIEmbeddings\n",
        "from langchain.chat_models import ChatOpenAI"
      ],
      "metadata": {
        "id": "L6mtjDlTq3ne"
      },
      "execution_count": null,
      "outputs": []
    },
    {
      "cell_type": "markdown",
      "source": [
        "## Load Documents and extract text"
      ],
      "metadata": {
        "id": "BTJvaZXDumNc"
      }
    },
    {
      "cell_type": "code",
      "source": [
        "!mkdir docs"
      ],
      "metadata": {
        "colab": {
          "base_uri": "https://localhost:8080/"
        },
        "id": "4naFlpcHtrEH",
        "outputId": "14d1657f-92cc-4cef-d4c4-ff08170127fa"
      },
      "execution_count": null,
      "outputs": [
        {
          "output_type": "stream",
          "name": "stdout",
          "text": [
            "mkdir: cannot create directory ‘docs’: File exists\n"
          ]
        }
      ]
    },
    {
      "cell_type": "code",
      "source": [
        "document = []\n",
        "\n",
        "for file in os.listdir(\"docs\"):\n",
        "  path = f\"./docs/{file}\"\n",
        "  if file.endswith(\".pdf\"):\n",
        "    loader = PyPDFLoader(path)\n",
        "  elif file.endswith(\".docx\") or file.endswith(\".doc\"):\n",
        "    loader = Docx2txtLoader(path)\n",
        "  elif file.endswith(\".docx\") or file.endswith(\".doc\"):\n",
        "    loader = TextLoader(path)\n",
        "  else:\n",
        "    raise ValueError(f\"Unrecognised extension on {file}\")\n",
        "\n",
        "  document.extend(loader.load())"
      ],
      "metadata": {
        "id": "s7S5nOUXvEfC"
      },
      "execution_count": null,
      "outputs": []
    },
    {
      "cell_type": "code",
      "source": [
        "document"
      ],
      "metadata": {
        "colab": {
          "base_uri": "https://localhost:8080/"
        },
        "id": "sESZ4ViAxfZ3",
        "outputId": "edf72506-bff8-4295-fc07-52dc832acc4a"
      },
      "execution_count": null,
      "outputs": [
        {
          "output_type": "execute_result",
          "data": {
            "text/plain": [
              "[Document(page_content=' Architecting for the Cloud  \\nAWS Best Practices  \\nOctober  2018 \\n \\n \\n \\n \\n \\n \\n \\n  \\n', metadata={'source': './docs/AWS_Cloud_Best_Practices.pdf', 'page': 0}),\n",
              " Document(page_content=' Notices  \\nThis document is provided for informational purposes only. It represents AWS’s \\ncurrent product offerings and practices as of the date of issue of this document, which \\nare subject to change without notice. Customers are responsible for making their own \\nindependent assessment of the information in this document and any use of AWS’s \\nproducts or services, each of which is provided “as is” without warranty of  any kind, \\nwhether express or implied. This document does not create any warranties, \\nrepresentations, contractual commitments, conditions or assurances from AWS, its \\naffiliates, suppliers or licensors. The responsibilities and liabilities of AWS to its \\ncustomers are controlled by AWS agreements, and this document is not part of, nor \\ndoes it modify, any agreement between AWS and its customers.  \\n \\n© 2018 , Amazon Web Services, Inc. or its affiliates.   All rights reserved.  \\n  ', metadata={'source': './docs/AWS_Cloud_Best_Practices.pdf', 'page': 1}),\n",
              " Document(page_content=' Contents  \\nIntroduction  1 \\nDifferences Between Traditional and Cloud Computing Environments  2 \\nIT Assets as Provisioned Resources  2 \\nGlobal, Available, and Scalable Capacity  2 \\nHigher -Level Managed Services  3 \\nBuilt -in Security  3 \\nArchitecting for Cost  3 \\nOperations on AWS  4 \\nDesign Principles  5 \\nScalability  5 \\nDisposable Resources Instead of Fixed Servers  9 \\nAutomation  12 \\nLoose Coupling  14 \\nServices, Not Servers  18 \\nDatabases  20 \\nManaging Increasing Volumes of Data  27 \\nRemoving Single Points of Failure  27 \\nOptimize for Cost  33 \\nCaching  36 \\nSecurity  37 \\nConclusion  41 \\nContributors  41 ', metadata={'source': './docs/AWS_Cloud_Best_Practices.pdf', 'page': 2}),\n",
              " Document(page_content=' Further Reading  41 \\nDocument Revisions  42 \\n \\n  ', metadata={'source': './docs/AWS_Cloud_Best_Practices.pdf', 'page': 3}),\n",
              " Document(page_content=' Abstract  \\nThis whitepaper is intended for solutions architects and develope rs who are building \\nsolutions that will be deployed on Amazon Web Services (AWS). It provides \\narchitectural guidance  and advice on technical design patterns and how they are \\napplied in the co ntext of cloud computing. This introduction provides the key concepts \\nand differences when design ing solution s on AWS . It includes a discussion on how to \\ntake advantage of attributes that are specific to the dynamic nature of cloud \\ncomputing , such as elast icity and infrastructure automation. These patterns can \\nprovide the context for  a more  detailed review of choices, operational status , and \\nimplementation status  as detailed in the  AWS  Well -Architected Framework .1', metadata={'source': './docs/AWS_Cloud_Best_Practices.pdf', 'page': 4}),\n",
              " Document(page_content='Amazon Web Services – Architecting for the Cloud: AWS Best Practices  \\nPage  1  \\nIntroduction  \\nMigrating applications to AWS, even without significant changes (an approach known \\nas lift and shift ), provides organizations with the benefits of a secure and cost -efficient \\ninfrastructure. However, to make the most of the elasticity and agility that are possible \\nwith cloud computing, engineers have to evolve their architectures to take advantage \\nof AWS capabilities.  \\nFor new applications, cloud -specific IT architecture patterns  can help drive efficiency \\nand scalability. Those new architectures can support anything from real -time analytics \\nof internet -scale data to applications with unpredictable traffic from thousands of \\nconnected Internet of Things (IoT) or mobile devices.  \\nWhether you are rearchitecting the applications that currently run in your on -premis es \\nenvironment to run on AWS, or designing cloud -native applications, you must consider \\nthe differences between traditional environments and cloud computing environments. \\nThis includes architecture choices, scalability, resource types, automation, as well as \\nflexible components, services, and databases.  If you are new to AWS, we recommend \\nthat you review the information on the  About AWS  page  to get a basic understanding \\nof AWS services .2 \\n  ', metadata={'source': './docs/AWS_Cloud_Best_Practices.pdf', 'page': 5}),\n",
              " Document(page_content='Amazon Web Services – Architecting for the Cloud: AWS Best Practices  \\nPage  2  \\nDifference s Betwee n Traditional and Cloud \\nComputing Environments  \\nCloud computing differs from a traditional, on -premises environment in many ways, \\nincluding flexible, global, and scalable capacity, managed services, built -in security, \\noptions for cost optimization, and vari ous operating models.  \\nIT Assets as Provisioned  Resources  \\nIn a traditional computing  environment , you provision capacity based on a n estimate  \\nof a theoretical maximum peak. This can result in periods where expensive resources \\nare sitting idle or occasions of insufficient capacity. With cloud computing, you can \\naccess as much or as little capacity as you need and dynamically scale to meet actual  \\ndemand, while only paying for what you use.  \\nOn AWS, servers, databases, storage, and higher -level application components can be \\ninstantiated within seconds. You can treat these as temporary resources, free from the \\ninflexibility and constraints of a fixed  and finite IT infrastructure. This resets the way \\nyou approach change management, testing, reliability, and capacity planning.  This \\nchange in approach encourages experimentation  by introducing the ability in \\nprocesses to fail fast and iterate quickly.  \\nGlobal, Available, and Scalable  Capacity  \\nUsing the global infrastructure  of AWS, you can deploy your application to the AWS \\nRegion that best meets your requirements (e.g., proximity to yo ur end users, \\ncompliance, data residency constraints, and cost).3 For global applications, you can \\nreduce latency to end users around the world by using the Amazon CloudFront content \\ndelivery network  (CDN) .  This also makes it much easier to operate produc tion \\napplications and databases across multiple data centers to achieve high availability and \\nfault tolerance. The global infrastructure of AWS and  the ability to provision  capacity \\nas needed  let you think differently about your infrastructure as the deman ds on your \\napplications and the breadth of your services expand . ', metadata={'source': './docs/AWS_Cloud_Best_Practices.pdf', 'page': 6}),\n",
              " Document(page_content='Amazon Web Services – Architecting for the Cloud: AWS Best Practices  \\nPage  3  \\nHigher -Level Managed Services  \\nApart from the compute resources of Amazon Elastic Compute Cloud (Amazon EC2), \\nyou also have access to a broad set of storage, database, analytics, application, and \\ndeployment services. Because these services are instantly available to developers, they \\nreduce dependency on in -house specialized skills and allow organizations to deliver \\nnew solutions faster. AWS  services  that are managed  can lower operational comple xity \\nand cost. They  are also designed for scalability and high availability, so they can reduce \\nrisk for your implementations.   \\nBuilt -in Security  \\nIn traditional IT  environments , infrastructure security auditing can be a periodic and \\nmanual process. In contrast, t he AWS Cloud provides governance capabilities that \\nenable continuous monitoring of configuration changes to your IT resources . Security \\nat AWS is the highest priority , which means that you benefit from data centers  and \\nnetwork architecture that are built to meet the requirements of the most security -\\nsensitive organizations.  \\nSince AWS resources are programmable  using tools and APIs , you  can formalize and \\nembed your  security policy with in the design of your inf rastructure. With the ability to \\nspin up temporary environments, security testing can now become part of your \\ncontinuous delivery pipeline. Finally, you can leverage a variety of native AWS security \\nand encryption features that can help you achieve higher levels of data protection and \\ncompliance.  \\nArchitecting for Cost  \\nTraditional cost management of on -premises solutions is not typically tightly coupled \\nto the provision of services. When you provision a  cloud computing  environment , \\noptimizing for cost is a fundamental design tenant for architects. When selecting a \\nsoluti on, you should not only focus on the functional architecture and feature set but \\non the cost profile of the solutions you select.  \\nAWS provides fine-grained billing, which enabl es you to  track the costs associated with  \\nall aspects of your solutions . There a re a range of services to help you manage  \\nbudgets, alert you to costs incurred,  and to help you optimiz e resource usage  and \\ncosts.  ', metadata={'source': './docs/AWS_Cloud_Best_Practices.pdf', 'page': 7}),\n",
              " Document(page_content='Amazon Web Services – Architecting for the Cloud: AWS Best Practices  \\nPage  4  \\nOperations  on AWS  \\nWhen operating services on AWS , there are  several  common categories of operating \\nmodel s:  \\n• Applications that  are migrated, maintain existing traditional operating models, \\nleverag e the ability to manage Infrastructure as Code through APIs  enabling \\nrobust and repeatable build processes, improving reliability.  \\n• Solutions that are refactored  leverage higher levels o f automation of the \\noperational processes as the supporting se rvices , e.g. AWS Auto  Scaling  and \\nself-healing architectures.  \\n• Solutions that are rearchitected and designed for cloud operations are \\ntypically fully automated through D evOps processes for delivery pipeline and \\nmanagement.   \\nSupporting these transitions does not just change the technologies used, but also \\ncultural chan ges in the way that development and operational teams are managed.  \\nAWS provides tooling, processes , and best practices to support the transition of \\noperational practices to maximize the benefits that can be leveraged from cloud \\ncomputing.  \\n  ', metadata={'source': './docs/AWS_Cloud_Best_Practices.pdf', 'page': 8}),\n",
              " Document(page_content='Amazon Web Services – Architecting for the Cloud: AWS Best Practices  \\nPage  5  \\nDesign Principl es \\nThe AWS Cloud includes many design patterns and architectural options that you can \\napply to a wide variety of use cases.  Some key design principles of the AWS Cloud \\ninclude scalability, disposable resources, automation, loose coupling managed services \\ninstead of servers, and flexible data storage options.  \\nScalability  \\nSystems that are expected to grow over time need to be built on top of a scalable \\narchitecture. Such an architecture can support growth in users, traffic, or data size \\nwith no drop -in perfor mance. It should provide that scale in a linear manner where \\nadding extra resources results in at least a proportional increase in ability to serve \\nadditional load. Growth should introduce economies of scale, and cost should follow \\nthe same dimension that generates business value out of that system. While cloud \\ncomputing provides virtually unlimited on -demand capacity, your design needs to be \\nable to take advantage of those resources seamlessly.  \\nThere are generally two ways to scale an IT architecture: vert ically and horizontally.  \\nScaling Vertically  \\nScaling vertically takes place through an increase in the specifications of an individual \\nresource, such as upgrading a server with a larger hard drive or a faster CPU. With  \\nAmazon EC2, you can stop  an instance a nd resiz e it to an instance type that has more \\nRAM, CPU, I /O, or networking capabilities. This way of scaling can eventually reach  a \\nlimit , and it is not always a  cost-efficient or highly available approach. However, it is \\nvery easy to implement and can be sufficient for many use cases especially in the short \\nterm.  \\nScaling Horizontally  \\nScaling horizontally takes place through an increase in the number of resources , such \\nas adding more hard drives to a storage array or adding more servers to support an \\napplication. This is a great way to build internet -scale applications that leverage the \\nelasticity of cloud computing. Not all architectures are designed to distribute their \\nworkload to multiple resources, so let’s examine some possible scenarios.  ', metadata={'source': './docs/AWS_Cloud_Best_Practices.pdf', 'page': 9}),\n",
              " Document(page_content='Amazon Web Services – Architecting for the Cloud: AWS Best Practices  \\nPage  6  \\nStateless A pplications  \\nWhen users or services interact with an application they will often perform a series of \\ninteractions that form a session.  A session is unique data for users  that persists  \\nbetween requests while they use the application.  A stateless application is an \\napplication that does not need knowledge of previous interactions and does not store \\nsession information . For  example,  an application that, given the same input, provides \\nthe same response to any end user , is a stateless application . Stateless applic ations  \\ncan scale horizontally because  any of the available compute resources ( such as  EC2 \\ninstances  and AWS Lambda functions)  can service any request . With out stored session \\ndata, you can simply add more compute resources as needed. When that capacity is \\nno longer required, you can safely terminate those  individual resource s, after running \\ntasks have been drained. Those resources do not need to be aware of the presence of \\ntheir peers —all that is required is a way to distribute the workload to them.  \\nDistribu te Load to Multiple Nodes  \\nTo distribute the workload to multiple nodes in your environment, you can choose \\neither a push or a pull model.  \\nWith a push model , you  can use Elastic Load Balancing (ELB)  to distribute a workload. \\nELB routes incoming application requests across multiple EC2 instances. When routing \\ntraffic, a Network Load Balancer operates at layer 4 of the Open Systems \\nInterconnection (OSI) model to handle millions of requests per second. With the \\nadoption of container -based services, you can also use an  Application Load Balanc er. \\nAn Application Load Balancer  provides Layer 7 of the OSI model  and support s content -\\nbased routing of requests based on application traffic.  Alternatively, you can use \\nAmazon Route 53 to  implem ent a DNS round robin. In this case, DNS responses return \\nan IP address from a list of valid hosts in a round -robin fashion. While easy to \\nimplement, this approach does not always work well with the elasticity of cloud \\ncomputing. This is because even if yo u can set low time to live (TTL) values for your \\nDNS records, caching DNS resolvers are outside the control of Amazon Route 53 and \\nmight not always respect your settings.  \\nInstead of a load balancing solution, you can implement a pull model for \\nasynchronous , event -driven workloads. In a pull model, tasks that need to be \\nperformed or data that need s to be processed can be stored as messages in a queue \\nusing Amazon Simple Queue Service (Amazon SQS) or as a streaming data solution ', metadata={'source': './docs/AWS_Cloud_Best_Practices.pdf', 'page': 10}),\n",
              " Document(page_content='Amazon Web Services – Architecting for the Cloud: AWS Best Practices  \\nPage  7  \\nsuch as  Amazon Kinesis. Multiple compute resources  can then pull and consume those \\nmessages, processing them in a distributed fashion.  \\nStateless Components  \\nIn practice, most applications maintain some kind of state information. For example, \\nweb applications need t o track whether a user is signed in  so that personalized content  \\ncan be presented  based on previous actions. An automated multi -step process also \\nneed s to track previous activity to decide what its next action should be. You can still \\nmake a portion of the se architectures stateless by not storing anything that needs to \\npersist for more than a single request  in the local file system . \\nFor example, web applications can use HTTP cookies to store session information ( such \\nas shopping cart  items ) in the web clien t cache . The browser passes that information \\nback to the server at each subsequent request so that the application does not need to \\nstore it. However, this approach has  two drawbacks. First, the content of the HTTP \\ncookies can be tampered with on the clien t side, so you should always treat it as \\nuntrusted data that must  be validated. Second, HTTP cookies are transmitted with \\nevery request, which means that you should keep their size to a minimum to avoid \\nunnecessary latency.  \\nConsider only storing a unique s ession identifier in a n HTTP cookie and storing more \\ndetailed user session information on the server  side. Most programming platforms \\nprovide a native session management mechanism that works this way . However , user \\nsession information  is often stored on the local file system by default  and result s in a \\nstateful architecture. A common solution to this problem is to store this information in \\na database. Amazon DynamoDB is a great choice because of its scalability, high \\navailability, and durability character istics. For many platforms , there are open source \\ndrop -in replacement libraries that allow you to store native sessions in Amazon \\nDynamoDB.4 \\nOther scenarios require storage of larger files ( such as  user uploads  and interim results \\nof batch processes). By p lacing those files in a shared storage layer such as  Amazon \\nSimple Storage Service ( Amazon S3 ) or Amazon Elastic File System (Amazon EFS) , you \\ncan avoid the introduction of stateful components.  \\nFinally, a  complex multi -step workflow is another example whe re you must  track the \\ncurrent state of each execution.  You can use AWS Step Functions to centrally store \\nexecution history and make these workloads stateless.  ', metadata={'source': './docs/AWS_Cloud_Best_Practices.pdf', 'page': 11}),\n",
              " Document(page_content='Amazon Web Services – Architecting for the Cloud: AWS Best Practices  \\nPage  8  \\nStateful Components  \\nInevitably, there will be layers of your architecture that you won’t turn int o stateless \\ncomponents. By definition, databases are stateful. For more information, see  the \\nDatabases  section . In addition, many legacy applications were designed to run on a \\nsingle server by relying on local compute resources. Other use cases might require \\nclient devices to maintain a connection to a specific server for prolonged periods. For \\nexample, real -time multiplayer gaming must offer multiple players a consistent view of \\nthe game world with very low latency. Th is is much simpler to achieve in a non -\\ndistributed implementation where participants are connected to the same server.  \\nYou might still be able to scale those components horizontally by distributing  the load \\nto multiple nodes with session affinity. In this model, you bind all the transactions of a \\nsession to a specific compute resource. But, this model does have some limitations.  \\nExisting sessions do not directly benefit from the introduction of newly launched \\ncompute nodes. More importantly, session affini ty cannot be guaranteed. For \\nexample, when a node is terminated or becomes unavailable, users bound to it will be \\ndisconnected and experience a loss of session -specific data , which is anything that is \\nnot stored in a shared resource such as  Amazon  S3, Ama zon EFS, or a database.  \\nImplement Session Affinity  \\nFor HTTP and HTTPS  traffic, you can use the sticky sessions  feature  of an Application \\nLoad Balancer  to bind a user’s session to a specific instance .5 With this feature, an \\nApplication  Load Balanc er will try to use the same server for that user for the duration \\nof the session.  \\nAnother option —if you control the code that runs on the client —is to use client -side \\nload balancing. This adds extra complexity , but can be useful in scenarios where a load \\nbalancer does not meet your requirements. For example , you might be using a \\nprotocol that’s not supported by ELB , or you might need full control over  how us ers \\nare assigned to servers (e.g., in a gaming scenario , you might need to make sure that \\ngame participants are matched and connect to the same server). In this model, the \\nclients need a way of discovering valid server endpoints to directly connect to. You  can \\nuse DNS for that, or you can build a simple discovery API to provide that information to \\nthe software running on the client. In the absence of a load balancer, the health -\\nchecking mechanism also need s to be implemented on the client side. You should \\ndesign your client logic so that when server unavailability is detected, devices \\nreconnect to another server with little disruption for the application.  ', metadata={'source': './docs/AWS_Cloud_Best_Practices.pdf', 'page': 12}),\n",
              " Document(page_content='Amazon Web Services – Architecting for the Cloud: AWS Best Practices  \\nPage  9  \\nDistributed Processing  \\nUse cases that involve the processing of very large amounts of data —anything that  \\ncan’t be handled by a single compute resource in a timely manner —require a \\ndistributed processing approach. By dividing a task and its data into many small \\nfragments of work, you can execute them in parallel across a set of compute \\nresources . \\nImplement Di stributed Processing  \\nOffline batch jobs can be horizontally scaled by using distributed  data processing \\nengine s such as  AWS Batch, AWS Glue , and Apache Hadoop. On AWS, you can use \\nAmazon EMR to run Hadoop workloads on top of a fleet of EC2 instances withou t the \\noperational complexity. For real -time processing of streaming data, Amazon Kinesis \\npartitions data in multiple shards that can then be consumed by multiple Amazon EC2 \\nor AWS Lambda resources to achieve scalability.  \\nFor more information on these types  of workloads, see the Big Data Analytics Options \\non AWS6 and  Core Tenets of IoT  whitepapers .7  \\nDisposable Resources Instead of Fixed Servers  \\nIn a traditional infrastructure environment, you have to work with fixed resources \\nbecause of  the upf ront cost and lead time of introducing new hardware. This drive s \\npractices such as  manually logging in to servers to configure software or fix issues, \\nhardcoding IP addresses, and running tests or processing jobs sequentially.  \\nWhen designing for AWS , you can take advantage of the dynamically provisioned \\nnature of cloud computing. You can think of servers and other components as \\ntemporary resources. You can launch as many as you need, and use them only for as \\nlong as you need them.  \\nAnother issue with fixed, long -running servers is configuration drift . Changes and \\nsoftware patches applied through time can result in untested and heterogeneous \\nconfigurations across different environments. You can solve this problem with  an \\nimmutable infrastructure pattern . With this approach , a server —once launched —is \\nnever updated. Instead, when  there is a problem or need for an update , the problem \\nserver is replaced with a new server  that has the latest configuration. This enables  \\nresources to always  be in a consistent (and tested) state , and makes rollbacks easier to \\nperform.  This is more easily supported with stateless architectures.  ', metadata={'source': './docs/AWS_Cloud_Best_Practices.pdf', 'page': 13}),\n",
              " Document(page_content='Amazon Web Services – Architecting for the Cloud: AWS Best Practices  \\nPage  10  \\nInstantiating Compute Resources  \\nWhether you are deploying a new environment for testing, or increasing capacity of an \\nexisting system to cope with extra load, you do not want to manually set up new \\nresources with their configuration and code. It is important that you make this an \\nautomat ed and repeatable process that avoids long lead times and is not prone to \\nhuman error.  There are a few methods  to achieve this. \\nBootstrapping  \\nWhen you launch an AWS resource such as  an EC2 instance or Amazon Relational \\nDatabase  Service  (Amazon RDS) DB inst ance, you start with a default configuration. \\nYou can then execute automated bootstrapping actions , which are  scripts that install \\nsoftware or copy data to bring that resource to a particular state. You can \\nparameterize configuration details that vary betw een different environments ( such as  \\nproduction  or test) so that you can reuse the same scripts without modifications.  \\nYou can set up new EC2 instances with  user data scripts and cloud -init directives .8 You \\ncan use simple scripts  and configuration management tools such as Chef or Puppet. In \\naddition, with  custom scripts and the AWS APIs, or with  AWS CloudFormation support \\nfor AWS Lambda -backed custom resources , you can  write provisioning logic that acts \\non almost any AWS resource.9 \\nGolden Images  \\nCertain AWS resource  types , such as EC2 instances, Amazon RDS DB instances, and \\nAmazon Elastic Block Store (Amazon EBS) volumes, can be launched from a golden \\nimage , which is  a snapshot of a particular state of that resource. When compared to \\nthe bootstrapping approach, a gol den image results in faster start times and removes \\ndependencies to configuration services or third -party repositories. This is important in \\nauto -scaled environments where you want to be  able to quickly and reliably launch \\nadditional resources as a respons e to demand changes.  \\nYou can customize an EC2 instance and then save its configuration by creating an \\nAmazon Machine Image (AMI) .10 You can launch as many instances from the AMI as  \\nyou need, and they will all include those customizations. Each time you want to change \\nyour configuration you must create a new golden image, so you must  have a \\nversioning convention to manage your golden images over time. We recommend that \\nyou use a scri pt to  create the  bootstrap for the EC2 instances that you use to create ', metadata={'source': './docs/AWS_Cloud_Best_Practices.pdf', 'page': 14}),\n",
              " Document(page_content='Amazon Web Services – Architecting for the Cloud: AWS Best Practices  \\nPage  11  \\nyour AMIs. This gives  you a flexible method  to test and modify those images through \\ntime.  \\nAlternatively, if you have an existing on -premises virtualized environment, you can use \\nVM Import/Export from AWS to convert a variety of virtualization formats to an AMI. \\nYou can also find and use prebaked , shared AMIs provided either by AWS or third \\nparties in AWS Marketplace.  \\nWhile golden images are most commonly used when you launch  new EC2 instances, \\nthey can also be applied to resources such as  Amazon RDS DB instances  or Amazon EBS \\nvolumes. For example, when you launch  a new test environment , you might want to \\nprepopulate its database by instantiating it from a specific Amazon RDS snapshot,  \\ninstead of importing the data from a lengthy SQL script.  \\nContainers  \\nAnother option popular with developers is Docker —an open -source technology that \\nallows you to build and deploy distributed applications inside software containers. \\nDocker allows you to pa ckage a piece of software in a Docker image, which is a \\nstandardized unit for software development, containing everything the software needs \\nto run: code, runtime, system tools, system libraries, etc. AWS Elastic Beanstalk , \\nAmazon Elastic  Container Service  (Amazon ECS)  and AWS Fargate  let you deploy and \\nmanage multiple containers across a cluster of EC2 instances.  You can build golden \\nDocker images and use the ECS Container Registry to manage them.  \\nAn alternative container environment  is Kubernetes and Amaz on Elastic Container \\nService for Kubernetes (Amazon EKS) . With Kubernetes and Amazon EKS, you can \\neasily  deploy, manage, and scale containerized applications . \\nHybrid  \\nYou can also  use a combination of the two approaches : some parts of the \\nconfiguration are captured in a golden image, while others are configured dynamically \\nthrough a bootstrapping action.  \\nItems that do not change often or that introduce external dependencies will typically \\nbe part of your golden image. An example  of a good candidate is  your web server \\nsoftware that would otherwise have to be downloaded by a third -party repository \\neach time you launch an instance.  ', metadata={'source': './docs/AWS_Cloud_Best_Practices.pdf', 'page': 15}),\n",
              " Document(page_content='Amazon Web Services – Architecting for the Cloud: AWS Best Practices  \\nPage  12  \\nItems that change often or differ between your various environments can be set up \\ndynamically t hrough bootstrapping actions. For example, if you are deploying new \\nversions of your application frequently, creating a new AMI for each application \\nversion might be impractical. You also do not want to hard code the database \\nhostname configuration to your  AMI because that would be different between the test \\nand production environments. User data or tags allow you to use more generic AMIs \\nthat can be modified at launch time. For example, if you run web servers for various \\nsmall businesses, they can all use the same AMI and retrieve their content from an S3 \\nbucket location that you specify in the user data at launch.  \\nAWS Elastic Beanstalk follows the hybrid model. It provides preconfigured run time \\nenvironments —each initiated from its own AMI11—but allows you to run bootstrap \\nactions through .ebextensions c onfiguration files12, and c onfigure environmental \\nvariables to parameterize the environment differences.  \\nFor a more detailed discussion of the different ways you can manage deployments of \\nnew resources , see the Overview of Deployment Options on AWS13 and Managing Your \\nAWS Infrastructure at Scale  whitepapers .14 \\nInfrastructure as Code  \\nApplication of the principles we have discussed does not have to be limited to the \\nindividual resource level. Because AWS  assets are programmable, you can apply \\ntechniques, practices, and tools from software development to make your whole \\ninfrastructure reu sable, maintainable, extensible, and testable.  For more information, \\nsee the Infrastructure as Code  whitepaper .15  \\nAWS CloudFormation templates  give you an easy way to cr eate and manage a \\ncollection of related AWS resources, and provision and update them in an orderly and \\npredictable fashion. You can describe the AWS resources and any associated \\ndependencies or runtime parameters required to run your application. Your \\nClou dFormation templates can live with your application in your version control \\nrepository, which allow s you to reuse architectures and reliably clone production \\nenvironments for testing.  \\nAutomation  \\nIn a traditional IT infrastructure, you often have to manuall y react to a variety of \\nevents. When deploying on AWS , there is an opportunity for automation, so that you ', metadata={'source': './docs/AWS_Cloud_Best_Practices.pdf', 'page': 16}),\n",
              " Document(page_content='Amazon Web Services – Architecting for the Cloud: AWS Best Practices  \\nPage  13  \\nimprove both your system’s stability and the efficiency of your organization . Consider  \\nintroducing one or more of these types of automation into your  application \\narchitecture to ensure more resiliency, scalability , and performance . \\nServerless Management and Deployment  \\nWhen you adopt serverless patterns , the operational focus is on the automation of the \\ndeployment pipeline. AWS manages  the underlying services, scale , and availability. \\nAWS CodePipeline, AWS CodeBuild , and AWS CodeDeploy support the automation of \\nthe deployment of these processes .16 \\nInfrastr ucture Management and Deployment  \\nAWS Elastic Beanstalk : You can use this  service to deploy and scale  web applications \\nand services developed with Java, .NET, PHP, Node.js, Python, Ruby, Go, and Docke r on \\nfamiliar servers such as Apache, Nginx, Passenger, and IIS .17 Developers can simply \\nupload their application code , and the service automatically handles all the details, \\nsuch as resource provisioning, load balancing, auto scaling, and monitoring.  \\nAmazon EC2 auto recovery : You can create an Amazon CloudWatch alarm that \\nmonitors an EC2 instance and automatically recovers it if it becomes impaired.18 A \\nrecovered ins tance is identical to the original instance, including the instance ID, \\nprivate IP addresses, Elastic IP addresses, and all instance metadata. However, this \\nfeature is only available for applicable instance configurations. Refer to the Amazon \\nEC2 documenta tion for an up -to-date description of those preconditions. In addition, \\nduring instance recovery, the instance is migrated through an instance reboot, and any \\ndata that is in -memory is lost.  \\nAWS S ystems Manager : You can automatically collect software inventory, apply OS \\npatches, create a system imag e to configure Windows and Linux operating systems , \\nand execute arbitrary commands . Provisioning  these services simplifies the operating \\nmodel and ensures the optimum environment configuration.19 \\nAuto Scaling : You can maintain application availability and scale your Amazon EC2 , \\nAmazon DynamoDB, Amazo n ECS , Amazon Elastic Container Service for Kubernetes \\n(Amazon EKS) capacity up or down automatically according to the conditions you \\ndefine.20 You can use Auto Scaling to help make sure  that you are running the desired \\nnumber of healthy EC2 instances acros s multiple Availability Zones. Auto Scaling can \\nalso automatically increase the number of EC2 instances during demand spikes to ', metadata={'source': './docs/AWS_Cloud_Best_Practices.pdf', 'page': 17}),\n",
              " Document(page_content='Amazon Web Services – Architecting for the Cloud: AWS Best Practices  \\nPage  14  \\nmaintain performance and decrease capacity during less busy periods to optimize \\ncosts.  \\nAlarms and Events  \\nAmazon CloudWatch alarms : You can create a CloudWatch alarm that sends an \\nAmazon Simple Notification Service (Amazon SNS) message when a particular metric \\ngoes beyond a spe cified threshold for a specified number of periods.21 Those Amazon \\nSNS messages can automatically kick off the execution of a subscribed Lambda \\nfunction, enqueue a notification message to an Amazon SQS queue, or perform a POST \\nrequest to an HTTP  or HTTPS  endpoint.  \\nAmazon CloudWatch Events : Delivers a near real -time stream of system events that \\ndescribe changes in AWS resources.22 Using simple rules, y ou can route each type of \\nevent to one or more targets , such as Lambda functions, Kinesis streams, and SNS \\ntopics.  \\nAWS Lambda scheduled events : You can  create a Lambda function and configure  AWS \\nLambda to execute it on a regular schedule.23 \\nAWS WAF security automations : AWS WAF is a web application firewall that enables \\nyou to create custom, application -specific rules that block common attack patterns \\nthat can affect application availability, compromise security, or consume excessive \\nresources. You can administer AWS WAF  completely through APIs , which makes \\nsecurity autom ation easy, enabling rapid rule propagation and fast incident \\nresponse.24 \\nLoose Coupling  \\nAs application complexity increases, a desirable attribute of an IT system is that it can \\nbe broken into smaller, loosely coupled components. This means that IT systems  \\nshould be designed in a way that reduces interdependencies —a change  or a failure in \\none component should not cascade to other components.  \\nWell -Defined Interfaces  \\nA way to reduce interdependencies in a system is to allow the various components to \\ninteract with each other only through specific, technology -agnostic interfaces , such as  \\nRESTful APIs. In that way, technical implementation detail is hidden so that teams can ', metadata={'source': './docs/AWS_Cloud_Best_Practices.pdf', 'page': 18}),\n",
              " Document(page_content='Amazon Web Services – Architecting for the Cloud: AWS Best Practices  \\nPage  15  \\nmodify the underlying implementation without affecting other components. As long as \\nthose interfaces maintain backwards compatibility, deployments of difference \\ncomponents are decoupled.  This granular design  pattern is commonly referred to as  a \\nmicroservices architecture . \\nAmazon API Gateway  is a fully managed service that makes it easy for developers to \\ncreate, publish, maintain, monitor, and secure APIs at any scale. It handles all the tasks \\ninvolved in accepting and processing up to hundreds of thousands of concurrent API \\ncalls, including traffic management, authorization and access control, monitoring, and \\nAPI version management.  \\nService Discovery  \\nApplications that are deployed as a set of smaller services depend on the ability of \\nthose services to interact with each other. Because each of  those services can be \\nrunning across multiple compute resources , there needs to be a way for each service \\nto be addressed. For example, in a traditional infrastructure , if your front -end web \\nservice need s to connect with your back -end web service, you cou ld hardcode the IP \\naddress of the compute resource where this service was running. Although this \\napproach can still work in cloud computing, if those  services are meant to be loosely \\ncoupled, they should be able to be consumed without prior knowledge of th eir \\nnetwork topology details. Apart from hiding complexity, this also allows infrastructure \\ndetails to change at any time. Loose coupling is a crucial element if you want to take \\nadvantage of the elasticity of cloud computing where new resources can be lau nched \\nor terminated at any point in time. In order to achieve that you will need some way of \\nimplementing service discovery.  \\nImplement Service Discovery  \\nFor an Amazon EC2 -hosted service , a simple way to achieve service discovery is \\nthrough  Elastic Load Bal ancing ( ELB). Because each load balancer gets its own \\nhostname , you can consume a service through a stable endpoint. This can be \\ncombined with DNS and private Amazon Route  53 zones, so that the particular load \\nbalancer’s endpoint can be abstracted and modi fied at any time.   \\nAnother option is to use a service registration and discovery method to allow retrieval \\nof the endpoint IP addresses and port number of any service. Because service \\ndiscovery becomes the glue between the components, it is important that it is highly \\navailable and reliable. If load balancers are not used, service discovery should also ', metadata={'source': './docs/AWS_Cloud_Best_Practices.pdf', 'page': 19}),\n",
              " Document(page_content='Amazon Web Services – Architecting for the Cloud: AWS Best Practices  \\nPage  16  \\nallow options such as  health checks . Amazon Route 53 supports auto naming to make \\nit easier to provision instances for microservices. Auto naming lets you au tomatically \\ncreate DNS records based on a configuration you define. Other  example \\nimplementations include custom solutions using a combination of tags, a highly \\navailable database , custom scripts that call the AWS APIs, or open -source tools such as  \\nNetflix  Eureka, Airbnb Synapse, or HashiCorp Consul.  \\nAsynchronous Integration  \\nAsynchronous integration is another form of loose coupling between services. This \\nmodel is suitable for any interaction that does not need an immediate response and \\nwhere an acknowledge ment that a request has been registered will suffice. It involves \\none component that generates events and another that consumes them. The two \\ncomponents do not integrate through direct point -to-point interaction but usually \\nthrough an intermediate durable storage layer , such as  an SQS queue or a streaming \\ndata platform such as  Amazon Kinesis , cascading Lambda events, AWS Step Functions , \\nor Amazon Simple Workflow  Service . \\n \\nFigure 1: Tight and loose coupling  \\nThis approach decouples the two components and introduces additional resiliency. So, \\nfor example, if a process that is reading messages from the queue fails, messages can \\nstill be added to the queue and processed when the system recovers. It also allows yo u \\nto protect a less scalable back -end service from front -end spikes and find the right \\n', metadata={'source': './docs/AWS_Cloud_Best_Practices.pdf', 'page': 20}),\n",
              " Document(page_content='Amazon Web Services – Architecting for the Cloud: AWS Best Practices  \\nPage  17  \\ntradeoff between cost and processing lag. For example, you can decide that you don’t \\nneed to scale your database to accommodate an occasional peak of write queries , as \\nlong as you eventually process those queries asynchronously with some delay. Finally, \\nby removing slow operations from  interactive request paths you can also improve the \\nend-user experience.  \\nExamples of asynchronous integration  include:  \\n• A front -end applicat ion inserts jobs in a queue system such as Amazon SQS. A \\nback -end system retrieves those jobs and processes them at its own pace.  \\n• An API generates events and pushes th em into Kinesis streams. A back -end \\napplication processes these events in batches to crea te aggregated time -series \\ndata stored in a database.  \\n• Multiple heterogeneous systems use AWS Step Functions  to communicate the \\nflow of work between them without directly interacting with each other.  \\n• Lambda functions can consume events from a variety of AWS sources , such as \\nAmazon DynamoDB update streams and Amazon S3 event notifications. You \\ndon’t have  to worry  about implementing a queuing or other asynchronous \\nintegration method because Lambda  handles this for you.  \\nDistributed Systems Best Practices  \\nAnother way to increase loose coupling is to build applications that handle component \\nfailure in a graceful manne r. You can identify ways to reduce the impact to your end \\nusers and increase your ability to make progress on your offline procedures, even in \\nthe event of some component failure.  \\nGraceful Failure in Practice  \\nA request that fails can be retried with an exp onential backoff and Jitter strategy , or it \\ncan be stored in a queue for later processing.25 For front -end interfaces, it might be \\npossible to provide alternative or cached content ins tead of failing completely when, \\nfor example, your database server becomes unavailable. The Amazon Route 53 DNS \\nfailover feature also gives you the ability to monitor your website and automatically \\nroute your visitors to a backup site if your primary site becomes unavailable. You can \\nhost your backup site as a static website on Amazon S3 or as a separate dynamic \\nenvironment.  ', metadata={'source': './docs/AWS_Cloud_Best_Practices.pdf', 'page': 21}),\n",
              " Document(page_content='Amazon Web Services – Architecting for the Cloud: AWS Best Practices  \\nPage  18  \\nServices, Not Servers  \\nDeveloping, managing, and operating applications , especially at scale , requires a wide \\nvariety of underlying tec hnology components. With traditional IT infrastructure, \\ncompanies would have to build and operate all those components.  \\nAWS offers a broad set of compute, storage, database, analytics, application, and \\ndeployment services that help organizations move faste r and lower IT costs.  \\nArchitectures that do not leverage that breadth (e.g., if they use only Amazon EC2) \\nmight not be making the most of cloud computing and might be missing an \\nopportunity to increase developer productivity and operational efficiency.  \\nMan aged Services  \\nAWS managed  services provide building blocks that developers can consume to power \\ntheir applications. These managed services include databases, machine learning, \\nanalytics, queuing, search, email, notifications, and more. For example, with Am azon \\nSQS you can offload the administrative burden of operating and scaling a highly \\navailable messaging cluster, while paying a low price for only what you use. Amazon \\nSQS is also inherently scalable  and reliable . The same applies to Amazon S3 , which \\nenables you to  store as much data as you want and access it when you need it,  without \\nhaving to think about capacity, hard disk configurations, replication, and other related \\nissues .  \\nOther examples  of manage d services that power your applications include:26 \\n• Amazon CloudFront for content delivery  \\n• ELB for load balancing  \\n• Amazon DynamoDB for NoSQL databases  \\n• Amazon CloudSearch for search workloads  \\n• Amazon Elastic Transcoder for video encoding  \\n• Amazon Simple Email Service (Amazon SES) for sending and receiving emails27 ', metadata={'source': './docs/AWS_Cloud_Best_Practices.pdf', 'page': 22}),\n",
              " Document(page_content='Amazon Web Services – Architecting for the Cloud: AWS Best Practices  \\nPage  19  \\nServerless Architectures  \\nServerless architectures  can reduce the operational complexity of running applications. \\nIt is possible to build both event -driven and synchronous services for mobile, web , \\nanalytics,  CDN business logic , and IoT without managing any server infrastructure. \\nThese architectures can reduce costs because you don’t have  to manage or pay for \\nunderutilized servers , or provision  redundant infrastructure to implement high \\navailabilit y. \\nFor example, you  can upload your code to the AWS Lambda compute service , and the \\nservice can run the code on your behalf using AWS infrastructure. With AWS Lambda, \\nyou are charged for every 100ms your code executes and the number of times your \\ncode is triggered. By using Amazon API Gateway, you can develop virtually infinitely \\nscalable synchronous APIs powered by AWS Lambda. When combined with Amazon S3 \\nfor serving static content assets, this pattern can deliver a complete web application. \\nFor more deta ils on this type of arc hitecture, see the AWS Serverless Multi -Tier \\nArchitectures  whitepaper.28 \\nWhen it comes to mobile and web apps, you can use Amazon Cognito  so that you \\ndon’t have to manage a back -end solution to handle user authentication, network \\nstate, storage, and sync. Amazon Cognito generates unique identifiers for your users.  \\nThose identifiers can be referenced in your access policies to enable or rest rict access \\nto other AWS resources on a per -user basis. Amazon Cognito provides temporary AWS \\ncredentials to your users, allowing the mobile application running on the device to \\ninteract directly with AWS Identity and Access Management (IAM) -protected AWS \\nservices. For example, using IAM you can restrict access to a folder in an S3 bucket to a \\nparticular end user.  \\nFor IoT applications, organizations have traditionally had to provision, operate, scale, \\nand maintain their own servers as device gateways to han dle the communication \\nbetween connected devices and their services. AWS IoT provides a fully managed \\ndevice gateway that scales automatically with your usage without any operational \\noverhead.   \\nServerless architectures ha ve also made it possible to run  resp onsive services at edge \\nlocations.  AWS Lambda@Edge  lets you  run Lambda functions at Amazon CloudFront \\nedge locations in response to CloudFront events.  This enables patterns for low -latency ', metadata={'source': './docs/AWS_Cloud_Best_Practices.pdf', 'page': 23}),\n",
              " Document(page_content='Amazon Web Services – Architecting for the Cloud: AWS Best Practices  \\nPage  20  \\nsolutions and the introduction of functionality without changing underlying \\napplications.29  \\nFor data analytics, managing queries on large volumes of data typically requires you to \\nmanage a complex infrastructure. Amazon Athena is an interactive query service that \\nmakes it easy for you to analyze  data in Amazon S3 using standard SQL. Athena is \\nserverless, so there is no infrastructure to manage, and you pay only for the queries \\nthat you run.  \\nDatabases  \\nWith traditional IT infrastructure, organizations are often limited to the database and \\nstorage technologies they  can use. There can be constraints based on licensing costs \\nand the ability to support diverse database engines. On AWS, these constraints are \\nremoved by managed database services that offer enterprise performance at open -\\nsource cost. As a result, it is no t uncommon for applications to run on top of a polyglot \\ndata layer choosing the right technology for each workload.  \\nChoose the Right Database Technology for Each Workload  \\nThese questions can help you make decisions about which solutions to include in your \\narchitecture:  \\n• Is this a read -heavy, write -heavy, or balanced workload? How many reads and \\nwrites per second  are you going to need? How will those values change if the \\nnumber of users increases?  \\n• How much data will you need to store and for how  long? How qui ckly will this \\ngrow? Is there an upper limit in the near  future? What is the size of each \\nobject (average, min, max)? How will these objects be accessed?  \\n• What are the requirements in terms of durability of data? Is this data store \\ngoing to be your “source of truth ?” \\n• What are your latency requirements? How many concurrent  users do you \\nneed to support?  \\n• What is your data model and how are you going to query the data ? Are your \\nqueries relational in nature (e.g., JOINs between multiple tables)? Could you  \\ndenormalize your schema to create flatter data structures  that are easier to \\nscale?  ', metadata={'source': './docs/AWS_Cloud_Best_Practices.pdf', 'page': 24}),\n",
              " Document(page_content='Amazon Web Services – Architecting for the Cloud: AWS Best Practices  \\nPage  21  \\n• What kind of functionality do you require? Do you need strong integrity \\ncontrols , or are you looking for more flexibility (e.g., schema -less data stores)? \\nDo you require s ophisticated reporting or search capabilities? Are your \\ndevelopers more familiar with relational databases than NoSQL?  \\n• What are the associated database technology license costs? Do these costs \\nconsider  application development  investment , storage , and usage  costs over \\ntime? Does the licensing model support projected growth?  Could you use \\ncloud -native database engines such as  Amazon Aurora  to get the simplicity \\nand cost -effectiveness of open -source databases?  \\nRelational Databases  \\nRelational databases ( also kn own as  RDBS or SQL databases) normalize data into well -\\ndefined tabular structures known as tables, which consist of rows and columns. They \\nprovide a powerful query language, flexible indexing capabilities, strong integrity \\ncontrols, and the ability to comb ine data from multiple tables in a fast and efficient \\nmanner. Amazon RDS makes it easy to set up, operate, and scale a relational database \\nin the cloud  with support for many familiar database engines . \\nScalability  \\nRelational databases can scale vertically by upgrading to a larger Amazon RDS DB \\ninstance or adding more and faster storage. In addition, consider using  Amazon \\nAurora, which is a database engine designed to deliver much higher throughput \\ncompared to standard MySQL running on the same hardware. For read -heavy \\napplications, you can also horizontally scale beyond the capacity constraints of a single \\nDB instance by creating one or more read replicas.  \\nRead replicas are separate database instances that are replicated asynchronously. As a \\nresult, they are subject to replication lag and might be missing some of the latest \\ntransactions. Application designers need to consider which queries have tolerance to \\nslightly stale data. Those queries can be executed on a  read replica, while the \\nremainder  should run on the primary node. Read replicas can also not accept any write \\nqueries.  \\nRelational database workloads that need to scale their write capacity beyond the \\nconstraints of a single DB instance require a different  approach called data partitioning \\nor sharding . With this model, data is split across multiple database schemas each ', metadata={'source': './docs/AWS_Cloud_Best_Practices.pdf', 'page': 25}),\n",
              " Document(page_content='Amazon Web Services – Architecting for the Cloud: AWS Best Practices  \\nPage  22  \\nrunning in its own autonomous primary DB instance. Although Amazon RDS removes \\nthe operational overhead of running those instances, shardin g introduces some \\ncomplexity to the application. The application’s data access layer need s to be modified \\nto have awareness of how data is split so that it can direct queries to the right \\ninstance. In addition, schema changes must  be performed across multi ple database \\nschemas , so it is worth investing some effort to automate this process.  \\nHigh Availability  \\nFor any production relational database, we recommend using the Amazon RDS Multi -\\nAZ deployment feature, which creates a synchronously replicated standby i nstance in a \\ndifferent Availability Zone. In case of failure of the primary node, Amazon RDS \\nperforms an automatic failover to the standby without the need for manual \\nadministrative intervention. When a failover is performed, there is a short period \\nduring  which the primary node is not accessible. Resilient applications can be designed \\nfor Graceful Failure  by offering reduced functionality , such as read -only mode by using  \\nread replicas.  Amazon Aurora provides multi -master capa bility to enable read s and \\nwrites to be scaled across Availability Zones and also supports cross -Region replication.  \\nAnti -Patterns  \\nIf your application primarily indexes and queries data with no need for joins or \\ncomplex transactions —especially if you expect a write throughput beyond the \\nconstraints of a single instance —consider a NoSQL database instead. If you have large \\nbinary files (audio, video, and image), it will be more efficient to store the actual files \\nin Amazon S3 and only hold the metadata f or the files in your database.  \\nFor more detailed relational database best practices , see the Amazon RDS \\ndocumentation .30 \\n  ', metadata={'source': './docs/AWS_Cloud_Best_Practices.pdf', 'page': 26}),\n",
              " Document(page_content='Amazon Web Services – Architecting for the Cloud: AWS Best Practices  \\nPage  23  \\nNoSQL Databases  \\nNoSQL databases trade so me of the query and transaction capabilities of relational \\ndatabases for a more flexible data model that seamlessly scales horizontally. NoSQL \\ndatabases use a variety of data models, including graphs, key -value pairs, and JSON \\ndocuments , and  are widely rec ognized for ease of development, scalable performance, \\nhigh availability, and resilience. Amazon DynamoDB is a fast and flexible NoSQL \\ndatabase  service for applications that need consistent, single -digit , milli second latency \\nat any scale.31 It is a fully managed cloud database and supports both document and \\nkey-value store models.  \\nScalability  \\nNoSQL database engines will typically perform data partitioning and replication to \\nscale both the reads and the writes in a horizontal fashion. They do this transparently , \\nand don’t need the data partitioning logic implemented in the data access layer of \\nyour application. Amazon DynamoDB in particular manages table partitioning \\nautomatically, adding new partitions as your tab le grows in size or as read -provisioned  \\nand write -provisioned capacity changes.  Amazon DynamoD B Accelerator (DAX) is a \\nmanaged, highly available , in-memory cache for DynamoD B to leverage significant \\nperformance improvements.32 \\nTo learn about how  you can mak e the most of Amazon DynamoDB scalability when \\nyou design  your application, see Best Practices for DynamoDB .33 \\nHigh Availability  \\nAmazon DynamoDB synchronously replicates data across three facilities in an AWS \\nRegion , which  provide s fault to lerance in the event of a server failure or Availability \\nZone disruption.  Amazon DynamoDB also supports global tables to provide a fully \\nmanaged , multi -Region, multi -master database that provides fast, local, read -and-\\nwrite performance for massively scaled  global applications. Global Tables are \\nreplicated across your selected AWS Regions.  \\nAnti -Patterns  \\nIf your schema cannot be denormalized , and your application requires joins or complex \\ntransactions, consider a relational database instead. If you have large  binary files \\n(audio, video, and image), consider storing the files in Amazon S3 and storing the \\nmetadata for the files in your database.  ', metadata={'source': './docs/AWS_Cloud_Best_Practices.pdf', 'page': 27}),\n",
              " Document(page_content='Amazon Web Services – Architecting for the Cloud: AWS Best Practices  \\nPage  24  \\nFor guidance on migrating from a relational database to DynamoDB, or on evaluating \\nwhich workloads to migrate, see the Best Practices for Migrating from RDBMS to \\nDynamoDB  whitepaper.34 \\nData Warehouse  \\nA data warehouse is a specialized type of relational database, which is optimized for \\nanalysis and reporting of large amounts of data. It can be used to combine \\ntransactional data from disparate sources ( such as  user behavior in a web application, \\ndata from your finance and billing system, or customer relationship management or \\nCRM) to make  them available for analysis and decision -making.  \\nTraditionally, setting up, running, and scaling a data warehouse has been complicated \\nand expensive. On AWS, you can leverage Amazon Redshift, a managed data \\nwarehouse service that is designed to  operate at less than a tenth the cost of \\ntraditional solutions.  \\nScalability  \\nAmazon Redshift achieves efficient storage and optimum query performance through \\na combination of massively parallel processing (MPP), columnar data storage, and \\ntargeted data compression encoding schemes. It is particularly suited to analytic and \\nreporting workloads against very large data sets. The Amazon Redshift MPP \\narchitecture enables you to increase performance by increasing the number of nodes \\nin your data warehouse clus ter. Amazon Redshift Spectrum enables Amazon Redshift \\nSQL queries against exabytes of data in Amazon S3, which extends  the analytic \\ncapabilities of Amazon Redshift beyond data stored on local disks in the data \\nwarehouse to unstructured data, without the need to load or transform data.  \\nHigh Availability  \\nAmazon Redshift has multiple features that enhance the reliability of your data \\nwarehouse cluster. We recommend that you deploy production workloads in multi -\\nnode clusters , so that  data that is written to a  node is automatically replicated to other \\nnodes within the cluster. Data is also continuously backed up to Amazon S3. Amazon \\nRedshift continuously monitors the health of the cluster and automatically re -\\nreplicates data from failed drives and replaces node s as necessary. For more \\ninformation, see  the Amazon Redshift FAQ .35 ', metadata={'source': './docs/AWS_Cloud_Best_Practices.pdf', 'page': 28}),\n",
              " Document(page_content='Amazon Web Services – Architecting for the Cloud: AWS Best Practices  \\nPage  25  \\nAnti -Patterns  \\nBecause Amazon Redshift is a n SQL-based relational database management system \\n(RDBMS), it is compatible with other RDBMS  applications and business intelligence \\ntools. Although Amazon Redshift provides the functionality of a typical RDBMS, \\nincluding online transaction processing (OLTP) functions, it is not designed for these \\nworkloads. If you expect a high concurrency worklo ad that generally involves reading \\nand writing all of the columns for a small number of records at a time , you should \\ninstead consider using Amazon RDS or Amazon DynamoDB.  \\nSearch  \\nSearch is often confused with query. A query is a formal database query, whic h is \\naddressed in formal terms to a specific data set. Search enables datasets to be queried \\nthat are not precisely structured. For this reason , applications that require \\nsophisticated search functionality will typically outgrow the capabilities of relatio nal or \\nNoSQL databases. A search service can be used to index and search both structured \\nand free text format and can support functionality that is not available in other \\ndatabases, such as customizable result ranking, faceting for filtering, synonyms, and \\nstemming.  \\nOn AWS, you can choose  between Amazon CloudSearch and Amazon Elasticsearch \\nService (Amazon ES). Amazon CloudSearch is a managed service that requires little \\nconfiguration and will scale automatically. Amazon ES offers an open -source API and \\ngives you more control over the configuration details. Amazon ES has also evolved to \\nbecome more than just a search solution. It is often used as an analytics engine for use \\ncases such as log analytics, real -time application monitoring, and click stream analyt ics. \\n  ', metadata={'source': './docs/AWS_Cloud_Best_Practices.pdf', 'page': 29}),\n",
              " Document(page_content='Amazon Web Services – Architecting for the Cloud: AWS Best Practices  \\nPage  26  \\nScalability  \\nBoth Amazon CloudSearch and Amazon ES use data partitioning and replication to \\nscale horizontally. The difference is that with Amazon CloudSearch , you don’t  need to \\nworry about how many  partitions and replicas you need because the servic e \\nautomatically handles that.  \\nHigh Availability  \\nBoth Amazon CloudSearch and Amazon ES  include  features that store data \\nredundantly across Availability Zones. For details, see the Amazon CloudSearch36 and \\nAmazon ES  documentation .37 \\nGraph Databases  \\nA graph database uses graph structures for queries . A graph is defined as consisting of \\nedges ( relationship s), which directly relate  to nodes (data entities)  in the store. The \\nrelationships enable data in the store to be linked together directly , which  allow s for \\nthe fast retrieval of complex hierarchical  structures in relational systems.  For this \\nreason , graph databases are purpose ly built to s tore and navigate relationships and \\nare typically used in use cases like social networking, recommendation engines, and \\nfraud detection , in which  you need to be abl e to create relationships between data \\nand quickly query these relationships.  \\nAmazon Neptune is a fully -managed graph  database service . For more information, see \\nthe Amazon Neptune FAQ . \\nScalability  \\nAmazon Neptune is a purpose -built, high -performance graph database optimized for \\nprocessing graph queries.  \\nHigh Availability  \\nAmazon Neptune is highly available, with read replicas, point -in-time recovery, \\ncontinuous backup to Amazon S3, and rep lication across Availability Zones. Neptune is \\nsecure, with support for en cryption at rest and in transit .38 \\n  ', metadata={'source': './docs/AWS_Cloud_Best_Practices.pdf', 'page': 30}),\n",
              " Document(page_content=\"Amazon Web Services – Architecting for the Cloud: AWS Best Practices  \\nPage  27  \\nManaging Increasing Volumes of Data  \\nTraditional data storage and analytic s tools can no longer provide the agility and \\nflexibility required to del iver relevant business insights. That’s why many organizations \\nare shifting to a data lake architecture. A data lake is an architectural approach that \\nallows you to store massive amounts of data in a central location so  that it's readily \\navailable to be ca tegorized, processed, analyzed , and consumed by diverse groups \\nwithin your  organization. Since data can be stored as -is, you do not have  to convert it \\nto a predefined schema , and you no longer need to know what questions to ask about  \\nyour data beforehand.  This enables  you to select the  correct technology to meet your \\nspecific  analytical requirements . For more information , see the Building a Data Lake \\nwith Amazon Web Services  whitepaper.39 \\nRemoving Single Points of Failure  \\nProduction systems typically come with defined or implicit objectives for uptime. A \\nsystem is highly available when it can withstand the failure of an individual component \\nor multiple components , such as  hard disks, servers, and network links. To help you \\ncreate a system with high availability, you  can think about ways to autom ate recovery \\nand reduce disruption at every layer of your architecture. For more information  about \\nhigh availability design patterns , refer to the Building Fa ult Tolerant Applications  \\nwhitepaper.40 \\nIntroducing Redundancy  \\nSingle points of failure can be removed by introducing redundancy, which means you \\nhave  multiple resources for the same task. Redundancy can be implemented in either \\nstandby or active mode.  \\nIn standby redundancy , when a resource fails , functionality is recovered on a \\nsecondary resource with the failover process. The failover typically requir es some time \\nbefore it completes, and during this period the resource remains unavailable. The \\nsecondary resource can either be launched automatically only when needed (to \\nreduce cost), or it can already be running idle (to accelerate failover and minimize  \\ndisruption). Standby redundancy is often used for stateful components such as \\nrelational databases.  \", metadata={'source': './docs/AWS_Cloud_Best_Practices.pdf', 'page': 31}),\n",
              " Document(page_content='Amazon Web Services – Architecting for the Cloud: AWS Best Practices  \\nPage  28  \\nIn active redundancy , requests are distributed to multiple redundant compute \\nresources . When one of them fails, the rest can simply absorb a larger share  of the \\nworkload. Compared to standby redundancy, active redundancy  can achieve better \\nusage  and affect a smaller population when there is a failure.  \\nDetect Failure  \\nYou should aim to build as much automation as possible in both detecting and reacting \\nto fa ilure. You can use services such as  ELB and Amazon Route  53 to configure health \\nchecks and mask failure by routing traffic to healthy endpoints. In addition, you can \\nreplace unhealthy nodes automatically using Auto Scaling or by using the Amazon EC2 \\nauto -recovery feature  or services such as AWS Elastic Beanstalk.41 It won’t be possible \\nto predict every possible failure scenario on day one. Make sure you collect enoug h \\nlogs and metrics to understand normal system behavior. After you understand that, \\nyou will be able to set up alarms for manual intervention or automated response.  \\nDesign Good Health Checks  \\nConfiguring the right health checks for your application helps  determine your ability to \\nrespond correctly and promptly to a variety of failure scenarios. Specifying the wrong \\nhealth check can actually reduce your application’s availability.  \\nIn a typical t hree -tier application, you configure health checks on ELB. Design your \\nhealth checks with the objective of reliably assessing the health of the back -end nodes. \\nA simple TCP health check won’t  detect if the instance itself is healthy but the web \\nserver proc ess has crashed. Instead, you should assess whether the web server can \\nreturn a n HTTP 200 response for some simple request.  \\nAt this layer, it might not be a good idea to configure a deep health check , which is a \\ntest that depends on other layers of your a pplication to be successful , because false \\npositives  can result . For example, if your health check also assesses whether the \\ninstance can connect to a back -end database, you risk marking all of your web servers \\nas unhealthy when that database node becomes shortly unavailable. A layered \\napproach is often the best. A deep health check might be appropriate to implement at \\nthe Amazon Route  53 level. By running a more holistic check that determines if that \\nenvironment is able to actually provide the required fun ctionality, you can configure \\nAmazon Route  53 to failover to a static version of your website until your database is \\nup and running again.  ', metadata={'source': './docs/AWS_Cloud_Best_Practices.pdf', 'page': 32}),\n",
              " Document(page_content='Amazon Web Services – Architecting for the Cloud: AWS Best Practices  \\nPage  29  \\nDurable Data Storage  \\nYour application and your users will create and maintain a variety of data. It is crucial \\nthat y our architecture protects both data availability and integrity. Data replication is \\nthe technique that introduces redundant copies of data. It can help horizontally scale \\nread capacity, but it also increase s data durability and availability. Replication ca n \\noccur  in a few different modes.  \\nSynchronous replication  only acknowledges a transaction after it has been durably \\nstored in both the primary location and its replicas. It is ideal for protecting the \\nintegrity of data from the event of a failure of the pr imary node. Synchronous \\nreplication can also scale read capacity for queries that require the most up -to-date \\ndata (strong consistency). The drawback of synchronous replication is that the primary \\nnode is coupled to the replicas. A transaction can’t be ack nowledged before all replicas \\nhave performed the write. This can compromise performance and availability , \\nespecially in topologies that run across unreliable or high -latency network \\nconnections. For the same reason , it is not recommended to maintain many \\nsynchronous replicas.  \\nRegardless of the durability of your solution, this is no replacement for backups. \\nSynchronous replication redundantly store s all updates to your data —even those that \\nare results of software bugs or human error. However, particularly f or objects stored \\non Amazon S3, you can use versioning  to preserve, retrieve, and restore any of their \\nversions.42 With versioning, you can recover from both unintended user acti ons and \\napplication failures.  \\nAsynchronous replication  decouples the primary node from its replicas at the expense \\nof introducing replication lag. This means that changes on the primary node are not \\nimmediately reflected on its replicas. Asynchronous repli cas are used to horizontally \\nscale the system’s read capacity for queries that can tolerate that replication lag. It can \\nalso be used to increase data durability when some loss of recent transactions can be \\ntolerated during a failover. For example, you can  maintain an asynchronous replica of \\na database in a separate AWS Region as a disaster recovery solution.  \\nQuorum -based replication  combines synchronous and asynchronous replication to \\novercome the challenges of large -scale distributed database systems.  \\nReplication to multiple nodes can be managed by defining a minimum number of \\nnodes that must participate in a successful write operat ion. A detailed discussion of ', metadata={'source': './docs/AWS_Cloud_Best_Practices.pdf', 'page': 33}),\n",
              " Document(page_content='Amazon Web Services – Architecting for the Cloud: AWS Best Practices  \\nPage  30  \\ndistributed data stores is beyond the scope of this document. For more information \\nabout distributed data stores and the core set of principles for an ultra -scalable and \\nhighly reliable database system, see the Amazon Dynamo  whitepaper.43 \\nIt is important to understand where each technology you are using fits in these data \\nstorage models. Their behavior during various failover or backup/restore scenar ios \\nshould align to your recovery point objective (RPO) and your recovery time objective \\n(RTO). You must  ascertain how much data you expect to lose and how quickly you \\nneed  to resume operations. For example, the Redis engine for Amazon ElastiCache \\nsupports  replication with automatic failover, but the Redis engine’s replication is \\nasynchronous. During a failover, it is highly likely that some recent transactions will be \\nlost. However, Amazon RDS, with its Multi -AZ feature, is designed to provide \\nsynchronous replication to keep data on the standby node up -to-date with the \\nprimary.  \\nAutomated Multi -Data Center Resilience  \\nBusiness -critical applications also need protection against disruption scenarios that \\naffect  more than just a single disk, server, or rack. In a traditional infrastructure , you \\ntypically have a disaster recovery plan to allow failover to a distant second data center  \\nin the event of  a major disruption in the primary one. Because of the long distance \\nbetween the two data centers, latency makes it i mpractical to maintain synchronous \\ncross -data center copies of the data. As a result, a failover will most certainly lead to \\ndata loss or a very costly data recovery process. This makes failover  a risky and not \\nalways sufficiently tested procedure. Neverth eless, this is a model that provides \\nexcellent protection  against a low probability but huge impact risk , such as  a natural \\ncatastrophe that brings down your whole infrastructure for a long time. For guidance \\non how to implement this approach on AWS , see  the AWS Disaster Recovery  \\nwhitepaper.44 \\nA shorter interruption in a data center is a more likely scenario. For short disruptions  in \\nwhich  the duration of the failure isn’t predicte d to be long, the choice to perform a \\nfailover is a difficult one and is generally avoided. On AWS , it is possible to adopt a \\nsimpler, more efficient protection from this type of failure. Each AWS Region contains \\nmultiple distinct locations , or Availability Zones . Each Availability Zone is engineered to \\nbe independent  from failures in other Availability Zones. An Availability Zone is a data \\ncenter, and in some cases, an Availability Zone consists of multiple data centers. \\nAvailability Zones withi n a Region provide inexpensive, low -latency network ', metadata={'source': './docs/AWS_Cloud_Best_Practices.pdf', 'page': 34}),\n",
              " Document(page_content='Amazon Web Services – Architecting for the Cloud: AWS Best Practices  \\nPage  31  \\nconnectivity to other zones in the same Region. This allows you to replicate your data \\nacross data centers in a synchronous manner so that failover can be automated and be \\ntransparent for your users.  \\nIt is also possible to implement active redundancy. For example, a fleet of application \\nservers can be distributed across multiple Availability Zones and be attached to ELB. \\nWhen the EC2 instances of a particular Availability Zone fail their health checks, ELB  \\nstop s sending traffic to those nodes. In addition,  AWS Auto Scaling ensures that the \\ncorrect number of EC2 instances are available to run your application, launching and \\nterminating instances based on demand and defined by your scaling policies. If your \\napplication requires no short -term performance degradation  because of  an Availability \\nZone failure, your architecture should be statically stable,  which means  it does not \\nrequire a change in the behavior of your workload to tolerate failures. In this scenar io, \\nyour architecture should provision excess  capacity to withstand the loss of one \\nAvailability Zone.  45 \\nMany of the higher -level services on AWS are inherently designed according to the \\nmultiple Availability Zone ( Multi -AZ) principle. For example, Amazon RDS provides high \\navailability and automatic failover support for DB instances using Multi -AZ \\ndeployments, while with Amazon S3 and Amazon DynamoDB your data is redundantly \\nstored across multiple facilities.  \\nFault Isolation and Traditional Horizontal Scaling  \\nThough the active redundancy pattern is great for balancing traffic and handling \\ninstance or Availability Zone disruptions, it is not sufficient if there is something \\nharmful about the requests themselves. For example, there could be sce narios where \\nevery instance is affected. If a particular request happens to trigger a bug that causes \\nthe system to fail over, then the caller may trigger a cascading failure by repeatedly \\ntrying the same request against all instances.  \\nShuffle Sharding  \\nOne fault -isolating improvement you can make to traditional horizontal scaling is \\ncalled sharding . Similar to the technique traditionally used with data storage systems, \\ninstead of spreading traffic from all customers across every node, you can group the \\ninstances into shards. For example, if you have eight instances for your service, you \\nmight create four shards of two instances each (two instances for some redundancy \\nwithin each shard) and distribute each customer to a specific shard. In this way, you ', metadata={'source': './docs/AWS_Cloud_Best_Practices.pdf', 'page': 35}),\n",
              " Document(page_content='Amazon Web Services – Architecting for the Cloud: AWS Best Practices  \\nPage  32  \\nare ab le to reduce the impact on customers in direct proportion to the number of \\nshards you have. However, some customers will still be affected, so the key is to make \\nthe client fault tolerant. If the client can try every endpoint in a set of sharded \\nresources until one succeeds, you get a dramatic improvement. This technique is \\nknown as  shuffle sharding . For more information about this technique  see the  Shuffle \\nSharding: Massive and Magical Fault Isolation  blog post.46 \\n  ', metadata={'source': './docs/AWS_Cloud_Best_Practices.pdf', 'page': 36}),\n",
              " Document(page_content='Amazon Web Services – Architecting for the Cloud: AWS Best Practices  \\nPage  33  \\nOptimize for Cost  \\nWhen you move your existing architectures into the cloud, you can reduce capital \\nexpenses a nd drive savings as a result of the AWS economies of scale.  By iterating and \\nusing  more AWS capabilities , you can realize  further opportunity to create cost -\\noptimized cloud architectures. For more information  about how to optimize for cost \\nwith AWS cloud c omputing , see the Cost Optimization with AWS  whitepaper .47 \\nRight Sizing  \\nAWS offers a broad range of resource types and configurations for many use cases. For \\nexample, servic es such as Amazon EC2, Amazon RDS, Amazon Redshift, and Amazon ES \\noffer many instance types. In some cases, you should select the cheapest type that \\nsuits your workload’s requirements. In other cases, using fewer instances of a larger \\ninstance type might r esult in lower total cost or better performance. You should \\nbenchmark your application environment and select the right instance type depending \\non how your workload uses  CPU, RAM, network, storage size, and I/O.  \\nSimilarly, you can reduce cost by selecting the right storage solution for your needs. \\nFor example, Amazon S3 offers a variety of storage classes, including Standard, \\nReduced Redundancy, and Standard -Infrequent Access. Other services, such as \\nAmazon EC2, Amazon RDS, and Amazon ES , support different EBS volume types \\n(magnetic, general purpose SSD, provisioned IOPS SSD) that you should evaluate.  \\nOver time, you can continue to reduce cost with continuous monitoring and tagging. \\nJust like application development, cost  optimization is an iterati ve process. Because, \\nyour application and its usage will evolve over  time , and because  AWS iterates \\nfrequently and regularly releases new options , it is important to continuously  evaluate \\nyour solution . \\nAWS provides tools  to help you identify those cost -saving opportunities and keep your \\nresources right -sized.48 To make those tools’ outcomes easy to interpret , you should \\ndefine and implement a tagging policy for  your AWS resources. You can make tagging a \\npart of your build process and automate it with AWS management tools such as  AWS \\nElastic Beanstalk and AWS OpsWorks. You can also use the managed rules provided by \\nAWS Config to assess whether specific tags are a pplied to your resources or not.  ', metadata={'source': './docs/AWS_Cloud_Best_Practices.pdf', 'page': 37}),\n",
              " Document(page_content='Amazon Web Services – Architecting for the Cloud: AWS Best Practices  \\nPage  34  \\nElasticity  \\nAnother way you can save money with AWS is by taking advantage of the platform’s \\nelasticity. Plan to implement Auto Scaling for as many Amazon EC2 workloads as \\npossible, so that you horizontally scale up when nee ded and scale down and \\nautomatically reduce your spend ing when you don’t need that capacity anymore. In \\naddition, you can automate turning off non -prod uction workloads  when not in use.49 \\nUltimately, consider which compute workloads you could implement on AWS Lambda \\nso that you never pay for idle or redundant resources.  \\nWhere possible, replace Amazon EC2 workloads with AWS managed services that \\neither don’ t require you to make any capacity decisions ( such as  ELB, Amazon \\nCloudFront, Amazon SQS, Amazon Kinesis Firehose, AWS Lambda, Amazon SES, \\nAmazon CloudSearch , or Amazon EFS ) or enable you to easily modify capacity as and \\nwhen need ( such as  Amazon DynamoDB, Amazon RDS, or Amazon ES). \\nTake Advantage of the Variety of Purchasing Options  \\nAmazon EC2 On -Demand instance pricing gives you maximum flexibility with no long -\\nterm commitments. Two other  EC2 instances that can help you reduce spend ing are \\nReserved Instances  and Spot instances . \\nReserved Instances  \\nAmazon EC2 Reserved Instances allow you to reserve Amazon EC2 computing capacity \\nin exchange for a significantly discounted hourly rate compared to On -Demand \\ninstance pricing. This is ideal for ap plications with predictable minimum capacity \\nrequirements. You can take advantage of tools such as  AWS  Trusted Advisor or \\nAmazon EC2 usage reports to identify the compute resources that you use most often  \\nand that you should consider reserving. Depending o n your Reserved Instance \\npurchases, the discounts will be reflected in the monthly bill. There  is technically no \\ndifference between an On -Demand EC2 instance and a Reserved Instance. The \\ndifference lies in the way you pay for instances that you reserve.  \\nReserved capacity options exist for other services as well (e.g., Amazon Redshift, \\nAmazon RDS, Amazon DynamoDB, and Amazon CloudFront).  \\nTip: You should not commit to Reserved Instance purchases before you \\nhave sufficiently benchmark ed your application in pro duction. After you \\n', metadata={'source': './docs/AWS_Cloud_Best_Practices.pdf', 'page': 38}),\n",
              " Document(page_content='Amazon Web Services – Architecting for the Cloud: AWS Best Practices  \\nPage  35  \\nhave purchased reserved capacity, you can use the Reserved Instance \\nutilization reports to make sure  you are still making the most of your \\nreserved capacity.  \\nSpot Instances  \\nFor less steady workloads, consider using Spot instances. Amazon  EC2 Spot instances \\nallow you to use spare Amazon EC2 computing capacity. Since Spot instances are often \\navailable at a discount compared to On -Demand pricing, you can significantly reduce \\nthe cost of running your applications.  \\nSpot instances  enable you to request unused EC2 instances, which can lower your \\nAmazon EC2 costs significantly. The hourly price for a Spot instance  (of each instance \\ntype in each Availability Zone) is set by Amazon EC2, and adjusted gradually based on \\nthe long -term supp ly of , and demand for , Spot instances . Your Spot instance  runs \\nwhenever capacity is available and the maximum price per hour for your request \\nexceeds the Spot price.  \\nAs a result, Spot instances are great for workloads that can tolerate  interruption. You \\ncan, however,  also use Spot instances when you require more predictable availability . \\nFor example , you can combine Reserved, On -Demand, and Spot instances  to combine \\na predictable minimum capacity with opportunistic  access to additional compute \\nresources , depending on the Spot market price. This is a great , cost-effective  way to \\nimprove throughput or application performance.  \\n  ', metadata={'source': './docs/AWS_Cloud_Best_Practices.pdf', 'page': 39}),\n",
              " Document(page_content='Amazon Web Services – Architecting for the Cloud: AWS Best Practices  \\nPage  36  \\nCaching  \\nCaching is a technique that stores previously calculated data for future use. This \\ntechnique is used to improve application performance and increase the cost efficiency \\nof an implementation. It can be applied at multiple layers of an IT architecture.  \\nApplication Data Caching  \\nApplications can be designed so that they store and retrieve information from fast, \\nmanaged,  in-memory caches. Cached information might  include the results of I/O -\\nintensive database queries , or the outcome of computationally intensive processing. \\nWhen the result set is not found in the cache, the application can calculate it , or \\nretrieve it from a database  or expensive , slowly mutating third -party content , and \\nstore it in the cache for subsequent requests. However, w hen a result set is found in \\nthe cache , the application can use that result directly, which improves latency for  end \\nusers and reduces load on back -end systems. Your application can control how long \\neach cached item remain s valid. In some cases, even a few seconds of caching for very \\npopular objects can result in a dramatic decrease on the load for your database.  \\nAmazon ElastiCache is a web service that makes it easy to deploy, operate, and scale \\nan in -memory cache in the cloud. It supports two open -source , in-memory  caching \\nengines: Memcached and Redis. For more details on how to select the right engine for \\nyour wor kload, as well as a description of common ElastiCache design patterns , see \\nthe Performance at Scale with Amazon ElastiCache  whitepaper.50 \\nAmazon DynamoDB A ccelerator (DAX) is a fully managed, highly available, in -memory \\ncache for DynamoDB that delivers performance improvements from milliseconds to \\nmicroseconds, for high throughput. DAX adds in -memory acceleration to your \\nDynamoDB tables without requiring you to manage cache invalidation, data \\npopulation , or cluster management.  \\nEdge Caching  \\nCopies of static content (images, CSS files, or streaming pre -recorded video) and \\ndynamic content ( responsive HTML , live video) can be cached at an Amazon \\nCloudFront  edge l ocation , which is a CDN with  multiple points of presence around the \\nworld. Edge caching allows content to be served by infrastructure that is closer to ', metadata={'source': './docs/AWS_Cloud_Best_Practices.pdf', 'page': 40}),\n",
              " Document(page_content='Amazon Web Services – Architecting for the Cloud: AWS Best Practices  \\nPage  37  \\nviewers, which lower s latency and giv es you the high, sustained data transfer rates \\nnecessary  to deliver  large popular objects to end users at scale.  \\nRequests for your content are intelligently routed  to Amazon S3 or your origin servers. \\nIf the origin is running on AWS , requests are transferred over optimized network paths \\nfor a more reliable and consistent experience. You can use Amazon CloudFront to \\ndeliver your entire website, including non -cachable content. In this case, t he benefit is \\nthat Amazon CloudFront reuses existing conne ctions between the Amazon CloudFront \\nedge and the origin server , which reduces  connection setup latency for each origin \\nrequest. Other connection optimizations are also applied to avoid internet bottlenecks \\nand fully use available bandwidth between the edge location and the viewer. This \\nmeans that Amazon CloudFront can expedite  the delivery of your dynamic content and \\nprovide your viewers with a consistent and reliable, yet personalized , experience when \\nnavigating your web application. Amazon CloudFront als o applies the same \\nperformance benefits to upload requests as those applied to the requests for \\ndownloading dynamic content.  \\nSecurity  \\nMost of the security tools and techniques that you might already be familiar with in a \\ntraditional IT infrastructure can b e used in the cloud. At the same time, AWS allows \\nyou to improve your security in a variety of ways. AWS is a platform that allows you to \\nformalize the design of security controls in the platform itself. It simplifies system use \\nfor administrators and your  IT department , and makes your environment much easier \\nto audit in a continuous manner. For a detailed view on how you can achieve a high \\nlevel of security governance , see the Security at  Scale: Governance in AWS51 and the \\nAWS Security Best Practices  whitepapers.52 \\nUse AWS Features for Defense in Depth  \\nAWS pr ovides many  features that can help you build architectures that feature \\ndefense in depth  methods . Starting at the network level , you can build a VPC topology \\nthat isolates parts of the infrastructure through the use of subnets, security groups, \\nand routing controls. Services like AWS WAF, a web application firewall, can help \\nprotect your web applications from SQL injection and othe r vulnerabilities in your \\napplication code. For access control, you can use IAM to define a granular set of \\npolicies and assign them to users, groups, and AWS resources. Finally, the AWS Cloud  \\noffers many  options to protect your  data, whether it is in tran sit or at rest with ', metadata={'source': './docs/AWS_Cloud_Best_Practices.pdf', 'page': 41}),\n",
              " Document(page_content='Amazon Web Services – Architecting for the Cloud: AWS Best Practices  \\nPage  38  \\nencryption .53 For more information about  all of the available AWS security features , \\nsee the AWS Cloud Security  page on the AWS website.54 \\nShare  Security Responsibility with  AWS  \\nAWS operates under a shared security responsibility model : AWS is responsible for the \\nsecurity of the underlying cloud infrastructure and you are responsible for securing  the \\nworkloads you deploy in AWS. This helps  you to reduce the scope of your responsibility \\nand focus on your core competencies through the use of AWS managed services. For \\nexample, when you use services such as Amazon RDS  and Amazon ElastiCache , security \\npatches are applied automatically to your configuration settings . This not only reduces \\noperational overhead for your team, but it could also reduce your exposure to \\nvulnerabilities.  \\nReduce Privileged Access  \\nWhen your  servers are programmable resources, you get many security benefits. The \\nability to  change your servers whenever you need to  enables  you to eliminate the \\nneed for guest operating system access to production environments. If an instance \\nexperiences an issue , you can aut omatically or manually terminate and replace it. \\nHowever, before you replace instances , you should collect and centrally store log  data  \\nthat can help you recreate issues in your development environment and deploy them \\nas fixes through your continuous deplo yment process. This approach ensures that the \\nlog data assist with troubleshooting and raise awareness of security events. This is \\nparticularly important in an elastic compute environment where servers are \\ntemporary. You can use Amazon CloudWatch Logs to c ollect this information. Where \\nyou don’t have direct access , you can  implement services such as AWS Systems \\nManager  55 to take a unified view and automate actions on groups of resources . You \\ncan integr ate these requests with your ticketing system, so that access requests are \\ntracked and dynamically handled only after approval.   \\nAnother common security risk is the use of stored, long term credentials or service \\naccounts. In a traditional environment, ser vice accounts are often assigned long -term \\ncredentials that are stored in a configuration file. On AWS, you can instead use IAM \\nroles to grant permissions to applications running on EC2 instances through the use of \\nshort -term credentials , which  are automat ically distributed and rotated. For mobile \\napplications, you can  use Amazon Cognito to allow  client devices to access AWS \\nresources through  temporary tokens  with fine-grained permissions . As an  AWS ', metadata={'source': './docs/AWS_Cloud_Best_Practices.pdf', 'page': 42}),\n",
              " Document(page_content='Amazon Web Services – Architecting for the Cloud: AWS Best Practices  \\nPage  39  \\nManagement Console user , you can similarly provide federat ed access through \\ntemporary tokens instead of creating IAM users in your AWS account. Then , when an \\nemployee leaves your organization and is removed from your organization’s identity \\ndirectory , that employee also automatically loses  access to your AWS account s. \\nSecurity as Code  \\nTraditional security frameworks, regulations, and organizational policies define \\nsecurity requirements related to items  such as firewall rules, network access controls, \\ninternal/external subnets, and operating  system hardening. You can implement these \\nin an AWS environment as well, but you now have the opportunity to capture them all \\nin a template  that defines a Golden Environment . This template is used by AWS \\nCloudFormation and deploys  your resources in alignm ent with your security policy. \\nYou can reuse security best practices among multiple projects , as a part of your \\ncontinuous integration pipeline. You can perform security testing as part of your \\nrelease cycle, and automatically discover application gaps and  drift from your security \\npolicy.  \\nAdditionally, for greater control and security, AWS CloudFormation templates can be \\nimported as products  into AWS Service Catalog .56 This allows you to  central ly manage  \\nyour  resources to support consistent governance, security, and compliance \\nrequirements, while enabling your users to quickly deploy only the approved IT \\nservices they need. You apply IAM permissions to control who can view and modify \\nyour products, and yo u define constraints to restrict the ways that specific AWS \\nresources can be deployed for a product.  \\nReal -Time Auditing  \\nTesting and auditing your environment is key to moving fast while staying safe. \\nTraditional approaches that involve periodic (and often manual or sample -based) \\nchecks are not sufficient, especially in agile environments where change is constant. \\nOn AWS, you can  implement continuous monitoring and automation of controls to \\nminimize exposure to security risks. Services such as  AWS Config, Am azon Inspector, \\nand AWS Trusted Advisor continually monitor for compliance or vulnerabilities , giving \\nyou a clear overview of which IT resources are in compliance , and which are not. With \\nAWS Config rules you also know if a resource  was out of compliance even for a brief \\nperiod of time, making both point -in-time and period -in-time audits very effective. You ', metadata={'source': './docs/AWS_Cloud_Best_Practices.pdf', 'page': 43}),\n",
              " Document(page_content='Amazon Web Services – Architecting for the Cloud: AWS Best Practices  \\nPage  40  \\ncan implemen t extensive logging  for your applications (using Amazon CloudWatch \\nLogs) and for the actual AWS API calls by enabling AWS CloudTrail.57  \\nAWS CloudTrail is a web service that records API calls to supported AWS services in \\nyour AWS account and delivers a log file to your S3 bucket. Log data can then be \\nstored in an immutable manner and automatically processed to either send a \\nnotification  or take an action on your behalf, protecting your organization from non -\\ncompliance. You can use AWS Lambda, Amazon EMR, Ama zon ES, Amazon Athena,  or \\nthird -party tools from AWS Marketplace to scan log  data  to detect events  such as  \\nunused permissions, privileged account  overuse , key usage, anomalous logins, policy \\nviolations, and system abuse.  \\n  ', metadata={'source': './docs/AWS_Cloud_Best_Practices.pdf', 'page': 44}),\n",
              " Document(page_content='Amazon Web Services – Architecting for the Cloud: AWS Best Practices  \\nPage  41  \\nConclusion  \\nWhen you design your architecture in the AWS Cloud, it is important to consider the \\nimportant principles and design patterns available in AWS,  including how to select the \\nright database for your application, and how to architect  applications that can scale \\nhorizontally an d with high availability. Because each implementation  is unique, you \\nmust evaluate how to apply this guidance  to your implementation. The topic of cloud \\ncomputing architectures is broad and continuously evolving. You can stay up-to-date \\nwith the latest cha nges and additions to the AWS cloud offerings with  the  material \\navailable on the AWS website58 and the AWS training and certification offerings .59 \\nContributors  \\nThese individual s contributed to this document:  \\n• Andreas Chatzakis, Manager, AWS Solutions Architecture  \\n• Paul Armstrong, Principal Solutions Architect , AWS  \\nFurther Reading  \\nFor more architecture examples, see the AWS Architecture Center .60  \\nFor applications already running on AWS , we recommend you review  the AWS Well -\\nArchitected Framework  whitepaper , which  provides  a structured evaluation model.61  \\nFor information to help you  validate your operational readiness , see the \\ncomprehensive AWS Operational Checklist .62 \\n  ', metadata={'source': './docs/AWS_Cloud_Best_Practices.pdf', 'page': 45}),\n",
              " Document(page_content='Amazon Web Services – Architecting for the Cloud: AWS Best Practices  \\nPage  42  \\nDocument Revisions  \\nDate  Description  \\nOctober  2018  Document review  and update  \\nJune  2013  First publication  \\n \\n1 http://d0.awsstatic.com/whitepapers/architecture/AWS_Well -\\nArchitected_Framework.pdf  \\n2 https://aws.amazon.com /about -aws/   \\n3 https://aws.amazon.com/about -aws/global -infrastructure/   \\n4 For example, see  the PHP Amazon  DynamoDB  session  handler  \\n(http://docs.aws.amazon.com/aws -sdk-php/v3/guide/service/dynamodb -session -\\nhandler.html ) and the Tomcat  Amazon  DynamoDB  session  handler  \\n(http://docs.aws.amazon.com/AWSSdkDocsJava/latest//DeveloperGuide/java -dg-\\ntomcat -session -manager.html ) \\n5 https://docs.aws.amazon.com/elasticloadbalancing/latest/application/load -balancer -\\ntarget -groups.html#sticky -sessions   \\n6https://d0.awsstatic.com/whitepapers/B ig_Data_Analytics_Options_on_AWS.pdf   \\n7 https://d1.awsstatic.com/whitepapers/core -tenets -of-iot1.pdf   \\n8 http://docs.aws.amazon.com/AWSEC2/latest/UserGuide/ec2 -instance -\\nmetadata.html   \\n9http://docs.aws.amazon.com/AWSCloudFormation/latest/UserGuide/template -\\ncustom -resources -lambda.html   \\n10 http://docs.aws.amazon.com/AWSEC2/latest/UserGuide/AMIs.html   \\n11 http://docs.aws.amazon.com/elasticbeanstalk/latest/dg/concepts.platforms.html   Notes  ', metadata={'source': './docs/AWS_Cloud_Best_Practices.pdf', 'page': 46}),\n",
              " Document(page_content='Amazon Web Services – Architecting for the Cloud: AWS Best Practices  \\nPage  43  \\n \\n12 http: //docs.aws.amazon.com/elasticbeanstalk/latest/dg/ebextensions.html   \\n13 https://d0.awsstatic.com/whitepapers/overview -of-deployment -options -on-aws.pdf   \\n14 https://d0.awsstatic.com/whitepapers/managing -your -aws-infrastructure -at-\\nscale.pdf   \\n15 https://d0.awsstatic.com/whitepapers/DevOps/infrastructure -as-code.pdf   \\n16 https://docs.aws.amazon.com/lambda/latest/dg/automating -deployment.html   \\n17 https://aws.amazon.com/elasticbeanstalk/   \\n18 http://docs.aws.amazon.com/AWSEC2/latest/UserGuide/ec2 -instance -recover.ht ml  \\n19 https://aws.amazon.com/ec2/systems -manager/   \\n20 https://aws.amazon.com/autoscaling/   \\n21 \\nhttp://docs.aws.amazon.com/AmazonCloudWatch/latest/DeveloperGuide/AlarmTha\\ntSendsEmail.html   \\n22 \\nhttp://docs.aws.amazon.com/AmazonCloudWatch/latest/DeveloperGuide/WhatIsCl\\noudWatchEvents.html   \\n23 http://docs.aws.ama zon.com/lambda/latest/dg/with -scheduled -events.html   \\n24 https://aws.amazon.com/answers/security/aws -waf-security -automations/   \\n25 https://www.awsarchitectureblog.com/2015/03/backoff.html   \\n26 http://aws.amazon.com/products/   \\n \\n28 https://d0.awsstatic.com/whitepapers/AWS_Serverless_Multi -\\nTier_Architectures.pdf   \\n29 http://docs.aws.amazon.com/lambda/latest/dg/lambda -edge.html   \\n30 http://docs.aws.amazon.com/AmazonRDS/latest/UserGuide/ \\nCHAP_BestPractices.html   ', metadata={'source': './docs/AWS_Cloud_Best_Practices.pdf', 'page': 47}),\n",
              " Document(page_content='Amazon Web Services – Architecting for the Cloud: AWS Best Practices  \\nPage  44  \\n \\n31 https://aws.amazon.com/nosql/   \\n32 https://aws.amazon.com/dynamodb/dax/   \\n33 \\nhttp://docs.aws.amazon.com/amazondynamodb/latest/developerguide/BestPractice\\ns.html   \\n34 https://d0.awsstatic.com/whitepapers/migration -best -practices -rdbms -to-\\ndynamodb.pdf   \\n35 https://aws.amazon.com/redshift/faqs/   \\n36 https://aws.amazon.com/documentation/cloudsearch/   \\n37 https://aws.amazon.com/documentation/elasticsearch -service/   \\n38 https://aws.amazon.com/neptune/   \\n39 https://d0.awsstatic.com/whitepapers/Storage/data -lake-on-aws.pdf   \\n40 https://d0.awsstatic.com/whitepapers/aws -building -fault -tolerant -applications.pdf   \\n41 http://docs.aws.amazon.com/AWSEC2/latest/UserGu ide/ec2 -instance -recover.html   \\n42 http://docs.aws.amazon.com/AmazonS3/latest/dev/Versioning.html   \\n43 http://www.allthingsdistributed.com/2007/10/amazons_dynamo.html   \\n44 https://media.amazonwebservices.com/AWS_Disaster_Recovery.pdf   \\n45 https://aws.amazon.com/architecture/well -architected/   \\n46 http://www.awsarchitectureblog.com/2014/04/shuffle -sharding.html   \\n47 https://d0.awsstatic.com/whitepapers/Cost_Optimization_with_AWS.pdf    \\n48 http://docs.aws.amazon.com/awsaccountbilling/latest/aboutv2/ monitoring -\\ncosts.html   \\n49 http://docs.aws.amazon.com/AmazonCloudWatch/latest/Developer \\nGuide/UsingAlarmActions.html   ', metadata={'source': './docs/AWS_Cloud_Best_Practices.pdf', 'page': 48}),\n",
              " Document(page_content='Amazon Web Services – Architecting for the Cloud: AWS Best Practices  \\nPage  45  \\n \\n50 https://d0.awsstatic.com/whitepapers/perfor mance -at-scale -with -amazon -\\nelasticache.pdf   \\n51 https://d0.awsstatic.com/whitepapers/compliance/AWS_Security \\n_at_Scale_Governance_in_AWS_Wh itepaper.pdf   \\n52 https://d0.awsstatic.com/whitepapers/aws -security -best -practices.pdf   \\n53 https://d0.awsstatic.com/whitepapers/aws -security -best -practices.pdf   \\n54 http://aws.amazon.com/security   \\n55 https://aws.amazon.com/systems -manager/  \\n56 https://aws.amazon.com/servicecatalog/   \\n57 https://d0.awsstatic.com/whitepapers/compliance/AWS_Security \\n_at_Scale_Logging_in_AWS_Whitepaper.pdf   \\n58 https://aws.amazon.com/   \\n59 https://aws.amazon.com/training/   \\n60 https://aws.amazon.com/architecture   \\n61 http://d0.awsstatic.com/whitepapers/architecture/AWS_Well -\\nArchitec ted_Framework.pdf   \\n62 https://d0.awsstatic.com/whitepapers/aws -operational -checklists.pdf   ', metadata={'source': './docs/AWS_Cloud_Best_Practices.pdf', 'page': 49}),\n",
              " Document(page_content='  \\n  \\n \\nAWS Certified Solutions Architect - Associate   \\n(SAA -C03) Exam Guide   \\n \\n \\n \\nVersion 1.0 SAA-C03  1 | PAGE  \\nIntroduction  \\nThe AWS Certified Solutions Architect - Associate  (SAA -C03) exam is intended for individuals who perform \\nin a solutions architect role. The exam validates a candidate’s ability to use AWS technologies to design \\nsolutions based on the AWS Well -Architected F ramework.  \\nThe exam also validates a candidate’s  ability to  complete the following tasks : \\n• Design solutions that incorporate AWS services to meet current business requirements and future \\nprojected needs  \\n• Design architectures that are secure, resilient, high -performing, and cost -optimized  \\n• Review existing solutions and determine improvements  \\nTarget candidate description  \\nThe target candidate should have at least 1 year of hands -on experience designing cloud solutions that use \\nAWS services.  \\nFor a detailed list of  specific tools and technologies that might be covered on the exam, as well as  lists of \\nin-scope and out -of-scope AWS services, refer to the Appendix . \\nExam content  \\nResponse types  \\nThere are two types of questions on the exam :  \\n• Multip le choice : Has one correct response and three  incorrect responses (distract ors) \\n• Multiple  response:  Has two or more correct responses out of five or more  response  option s \\nSelect one  or more responses that best complete the statement or answer the question. Distractors, or \\nincorrect answers,  are response  options that a candidate with incomplete knowledge or skill  might  choose. \\nDistractors  are generally plausible responses that match  the content area . \\nUnanswered questions are scored  as incorrect; there is no penalty  for guessing. The exam include s  \\n50 questions that will affect your score.  \\nUnscored content  \\nThe exam  include s 15 unscored questions  that do not affect your score. AWS collects  information  about \\ncandidate performance on these unscored questions to e valuate these questions for future use as scored \\nquestions . These  unscored  questions  are not identified  on the exam .  \\n  ', metadata={'source': './docs/AWS-Certified-Solutions-Architect-Associate_Exam-Guide.pdf', 'page': 0}),\n",
              " Document(page_content=' \\n \\n \\n \\nVersion 1.0 SAA-C03  2 | PAGE  \\nExam results  \\nThe AWS Certified Solutions Architect - Associate  exam  is a pass or fail exam. The exam  is scored against a \\nminimum standard established by AWS professionals who follow  certification industry best practices and \\nguidelines.   \\nYour results for the exam  are reported as a scaled score of 100–1,000. The  minimum passing score is 720. \\nYour score shows how you performed on the exam  as a whole and whether or not you passed. Scaled \\nscoring models help equate scores across multiple exam forms that m ight have slightly different difficulty \\nlevels.  \\nYour score report could  contain a table of c lassifications of your performance at each section level. This \\ninformation provide s general feedback about your exam performance. The exam uses a compensatory \\nscoring model, which means that you do not need to achieve a passing score in each section. You n eed to \\npass only the overall exam.  \\nEach section of the exam has a specific weighting, so some sections have more questions than other  \\nsections have . The table contains general information that highlights your strengths and weaknesses. Use \\ncaution when inte rpreting section -level feedback. Candidates  who pass the exam  will not receive this \\nadditional information.  \\nContent outline  \\nThis exam guide includes weightings, test domains, and task statements for the exam.  It is not  a \\ncomprehensive listing of the conten t on the exam. However, additional context for each of the task \\nstatements is available to help guide your preparation for the exam. The following table lists the main \\ncontent domains and their weighting s. The table precedes the complete exam content outli ne, which \\nincludes the additional context. The percentage in each domain represents only scored content.  \\nDomain  % of Exam  \\nDomain 1: Design Secure  Architectures  30%  \\nDomain 2: Design Resilient Architectures  26%  \\nDomain 3: Design High -Performing  Architectures  24%  \\nDomain 4: Design Cost -Optimized Architectures  20%  \\nTOTAL  100%  \\n \\n  ', metadata={'source': './docs/AWS-Certified-Solutions-Architect-Associate_Exam-Guide.pdf', 'page': 1}),\n",
              " Document(page_content=' \\n \\n \\n \\nVersion 1.0 SAA-C03  3 | PAGE  \\nDomain 1: Design Secure Architectures  \\nTask Statement 1: Design secure access to AWS resources.  \\n \\nKnowledge of:  \\n• Access controls and management across multiple accounts  \\n• AWS federated access and identity services (for example, AWS Identity and Access \\nManagement [IAM], AWS Single Sign -On [AWS SSO])  \\n• AWS global infrastructure (for example, Availability Zones, AWS Regions)  \\n• AWS security best practices (for example, the principl e of least privilege)  \\n• The AWS shared responsibility model  \\n \\nSkills in:  \\n• Applying AWS security best practices to IAM users and root users (for example, multi -factor \\nauthentication [MFA])  \\n• Designing a flexible authorization model that includes IAM users, groups, roles, and policies  \\n• Designing a role -based access control strategy (for example, AWS Security Token Service [AWS \\nSTS], role switching, cross -account access)  \\n• Designing a security strategy for multiple AWS accounts (for example,  AWS Control Tower,  \\nservice control policies [SCPs])  \\n• Determining the appropriate use of resource policies for AWS services  \\n• Determining when to federate a directory service with IAM roles  \\n \\nTask Statement 2: Design secure workloads and applications.  \\n \\nKnowledge of:  \\n• Application con figuration and credentials security  \\n• AWS service endpoints  \\n• Control ports, protocols, and network traffic on AWS  \\n• Secure application access  \\n• Security services with appropriate use cases (for example, Amazon Cognito, Amazon \\nGuardDuty, Amazon Macie)  \\n• Threat vecto rs external to AWS (for example, DDoS, SQL injection)  \\n \\nSkills in:  \\n• Designing VPC architectures with security components (for example, security groups, route \\ntables, network ACLs, NAT gateways)  \\n• Determining network segmentation strategies (for example, using public subnets and private \\nsubnets)  \\n• Integrating AWS services to secure applications (for example, AWS Shield, AWS WAF, AWS \\nSSO, AWS Secrets Manager)  \\n• Securing external network connections to and from the AWS Cloud (for example, VPN, AWS \\nDirect Connect ) \\n \\n  ', metadata={'source': './docs/AWS-Certified-Solutions-Architect-Associate_Exam-Guide.pdf', 'page': 2}),\n",
              " Document(page_content=' \\n \\n \\n \\nVersion 1.0 SAA-C03  4 | PAGE  \\nTask Statement 3: Determine appropriate data security controls.  \\n \\nKnowledge of:  \\n• Data access and governance  \\n• Data recovery  \\n• Data retention and classification  \\n• Encryption and appropriate key management  \\n \\nSkills in:  \\n• Aligning AWS technologies to meet compliance requirements  \\n• Encrypting data at rest (for example, AWS Key Management Service [AWS KMS])  \\n• Encrypting data in transit (for example, AWS Certificate Manager [ACM ] using TLS)  \\n• Implementing access policies for encryption keys  \\n• Implementing data backups and replic ations  \\n• Implementing policies for data access, lifecycle, and protection  \\n• Rotating encryption keys and renewing certificates  \\nDomain 2: Design Resilient Architectures  \\nTask Statement 1: Design scalable and loosely coupled architectures.  \\n \\nKnowledge of:  \\n• API cre ation and management (for example, Amazon API Gateway, REST API)  \\n• AWS managed services with appropriate use cases (for example, AWS Transfer Family, Amazon \\nSimple Queue Service [Amazon SQS], Secrets Manager)  \\n• Caching strategies  \\n• Design principles for microser vices (for example, stateless workloads compared with stateful \\nworkloads)  \\n• Event -driven architectures  \\n• Horizontal scaling and vertical scaling  \\n• How to appropriately use edge accelerators (for example, content delivery network [CDN])  \\n• How to migrate a pplications into containers  \\n• Load balancing concepts (for example, Application Load Balancer)  \\n• Multi -tier architectures  \\n• Queuing and messaging concepts (for example, publish/subscribe)  \\n• Serverless technologies and patterns  (for example, AWS Fargate, AWS Lambda ) \\n• Storage types with associate d characteristics (for example, object, file, block)  \\n• The orchestration of containers (for example, Amazon Elastic Container Service [Amazon ECS], \\nAmazon Elastic Kubernetes Service [Amazon EKS])  \\n• When to use read replicas  \\n• Workf low orchestration (for example, AWS Step Functions)  \\n \\n  ', metadata={'source': './docs/AWS-Certified-Solutions-Architect-Associate_Exam-Guide.pdf', 'page': 3}),\n",
              " Document(page_content=' \\n \\n \\n \\nVersion 1.0 SAA-C03  5 | PAGE  \\nSkills in:  \\n• Designing event -driven, microservice, and/or multi -tier architectures based on requirements  \\n• Determining scaling strategies for components used in a n architecture design  \\n• Determining the AWS services required to achieve loose coupling based on requirements  \\n• Determining when to use containers  \\n• Determining when to use serverless technologies and patterns  \\n• Recommending appropriate compute, storage, networking, and database technologies based \\non requ irements  \\n• Using  purpose -built AWS services for workloads  \\n \\nTask Statement 2: Design highly available and/or fault -tolerant architectures.  \\n \\nKnowledge of:  \\n• AWS global infrastructure (for example, Availability Zones, AWS Regions , Amazon  Route 53 ) \\n• AWS managed ser vices with appropriate use cases (for example, Amazon Comprehend, \\nAmazon Polly)  \\n• Basic networking concepts (for example, route tables)  \\n• Disaster recovery (DR) strategies (for example, backup and restore, pilot light, warm standby, \\nactive -active failover , recovery point objective [RPO], recovery time objective [RTO]) \\n• Distributed design patterns  \\n• Failover strategies  \\n• Immutable infrastructure  \\n• Load balancing concepts (for example, Application Load Balancer)  \\n• Proxy concepts (for example, Amazon RDS Proxy)  \\n• Servi ce quotas and throttling (for example, how to configure the service quotas for a workload \\nin a standby environment)  \\n• Storage options and characteristics (for example, durability, replication)  \\n• Workload visibility (for example, AWS X -Ray) \\n \\nSkills in:  \\n• Determin ing automation strategies to ensure infrastructure integrity  \\n• Determining the AWS services required to provide a highly available and/or fault -tolerant \\narchitecture across AWS Regions or Availability Zones  \\n• Identifying metrics based on business requirements to deliver a highly available solution  \\n• Implementing designs to mitigate single points of failure  \\n• Implementing strategies to ensure the durability and availability of data (for example, backups)  \\n• Selecting an appropriate DR strategy to meet business requirem ents \\n• Using AWS services that improve the reliability of legacy applications and applications not built \\nfor the cloud (for example, when application changes are not possible)  \\n• Using purpose -built AWS services for workloads  \\n \\n  ', metadata={'source': './docs/AWS-Certified-Solutions-Architect-Associate_Exam-Guide.pdf', 'page': 4}),\n",
              " Document(page_content=' \\n \\n \\n \\nVersion 1.0 SAA-C03  6 | PAGE  \\nDomain 3: Design High -Performing  Architectures  \\nTask Statement 1: Determine high -performing and/or scalable storage solutions.  \\n \\nKnowledge of:  \\n• Hybrid storage solutions to meet business requirements  \\n• Storage services with appropriate use cases (for example, Amazon S3, Amazon Elastic File \\nSystem [Amazon EFS], Amazon Elastic Block Store [Amazon EBS])  \\n• Storage types with associate d characteristics (for example, object, file, block)  \\n \\nSkills in:  \\n• Determining storage services and configurations that meet performance demands  \\n• Determining storage ser vices that can scale to accommodate future needs  \\n \\nTask Statement 2: Design high -performing and elastic compute solutions.  \\n \\nKnowledge of:  \\n• AWS compute services with appropriate use cases (for example, AWS Batch, Amazon EMR, \\nFargate)  \\n• Distributed computing co ncepts supported by AWS global infrastructure and edge services  \\n• Queuing and messaging concepts (for example, publish/subscribe)  \\n• Scalability capabilities with appropriate use cases (for example, Amazon EC2 Auto Scaling, \\nAWS Auto Scaling)  \\n• Serverless technolo gies and patterns (for example, Lambda, Fargate)  \\n• The orchestration of containers (for example, Amazon ECS, Amazon EKS)  \\n \\nSkills in:  \\n• Decoupling workloads so that components can scale independently  \\n• Identifying metrics and conditions to perform scaling actions  \\n• Selecting the appropriate compute options and features (for example, EC2 instance types) to \\nmeet business requirements  \\n• Selecting the appropriate resource type and size (for example, the amount of Lambda \\nmemory) to meet business requirements  \\n \\nTask Statemen t 3: Determine high -performing database solutions.  \\n \\nKnowledge of:  \\n• AWS global infrastructure (for example, Availability Zones, AWS Regions)  \\n• Caching strategies  and services (for example, Amazon ElastiCache)  \\n• Data access patterns (for example, read -intensive compared with write -intensive)  \\n• Database capacity planning (for example, capacity units, instance types, Provisioned IOPS)  \\n• Database connections and proxies  \\n• Database engines with appropriate use cases (for example, heterogeneous migrations, \\nhomogeneous migra tions)  \\n• Database replication (for example, read replicas)  \\n• Database types and services (for example, serverless, relational compared with non -relational , \\nin-memory)  \\n ', metadata={'source': './docs/AWS-Certified-Solutions-Architect-Associate_Exam-Guide.pdf', 'page': 5}),\n",
              " Document(page_content=' \\n \\n \\n \\nVersion 1.0 SAA-C03  7 | PAGE  \\nSkills in:  \\n• Configuring read replicas to meet business requirements  \\n• Designing database archit ectures  \\n• Determining an appropriate database engine (for example, MySQL compared with \\nPostgreSQL)  \\n• Determining an appropriate database type (for example, Amazon Aurora, Amazon DynamoDB)  \\n• Integrating caching to meet business requirements  \\n \\nTask Statement 4: Det ermine high -performing and/or scalable network architectures . \\n \\nKnowledge of:  \\n• Edge networking services with appropriate use cases (for example, Amazon CloudFront, AWS \\nGlobal Accelerator)  \\n• How to design network architecture (for example, subnet tiers, routin g, IP addressing)  \\n• Load balancing concepts (for example, Application Load Balancer)  \\n• Network connection options (for example, AWS VPN, Direct Connect, AWS PrivateLink ) \\n \\nSkills in:  \\n• Creating a network topology  for various architectures  (for example,  global, hybrid, multi -tier)  \\n• Determining network configurations that can scale to accommodate future needs  \\n• Determining the appropriate placement of resources to meet business requirements  \\n• Selecting the appropriate load balancing strategy  \\n \\nTask Statement 5: Determine high -performing data ingestion and transformation solutions.  \\n \\nKnowledge of:  \\n• Data analytics and visualization services with appropriate use cases (for example, Amazon \\nAthena, AWS Lake Formation, Amazon QuickSight)  \\n• Data ingestion patterns (for e xample, frequency)  \\n• Data transfer services with appropriate use cases (for example, AWS DataSync, AWS Storage \\nGateway)  \\n• Data transformation services with appropriate use cases (for example, AWS Glue)  \\n• Secure access to ingestion access points  \\n• Sizes and speed s needed to meet business requirements  \\n• Streaming data services with appropriate use cases (for example, Amazon Kinesis)  \\n \\nSkills in:  \\n• Building and securing data lakes  \\n• Designing data streaming architectures  \\n• Designing data transfer solutions  \\n• Implementing visu alization strategies  \\n• Selecting appropriate compute options for data processing (for example, Amazon EMR)  \\n• Selecting appropriate configurations for ingestion  \\n• Transforming data between formats (for example, .csv to .parquet)  \\n \\n  ', metadata={'source': './docs/AWS-Certified-Solutions-Architect-Associate_Exam-Guide.pdf', 'page': 6}),\n",
              " Document(page_content=' \\n \\n \\n \\nVersion 1.0 SAA-C03  8 | PAGE  \\nDomain 4: Design Cost -Optimized  Architectures  \\nTask Statement 1: Design cost -optimized storage solutions.  \\n \\nKnowledge of:  \\n• Access options (for example, an S3 bucket with Requester Pays object storage)  \\n• AWS cost management service features (for example, cost allocation tags, multi -account \\nbilling)  \\n• AWS cost management tools with appropriate use cases (for example, AWS Cost Explorer, \\nAWS Budgets, AWS Cost and Usage Report)  \\n• AWS storage services with appropriate use cases (for example, Amazon FSx, Amazon EFS, \\nAmazon S3, Amazon EBS)  \\n• Backup strateg ies \\n• Block storage options (for example, hard disk drive [HDD] volume types, solid state drive [SSD] \\nvolume types)  \\n• Data lifecycles  \\n• Hybrid storage options (for example, DataSync, Transfer Family, Storage Gateway)  \\n• Storage access patterns  \\n• Storage tiering (for example, cold tiering for object storage)  \\n• Storage types with associate d characteristics (for example, object, file, block)  \\n \\nSkills in:  \\n• Designing appropriate storage strategies (for example, batch uploads to Amazon S3 compared \\nwith individual uploads)  \\n• Deter mining the correct storage size for a workload  \\n• Determining the lowest cost method of transferring data for a workload to AWS storage  \\n• Determining when storage auto  scaling is required  \\n• Managing S3 object lifecycles  \\n• Selecting the appropriate backup and/or archival solution  \\n• Selecting the appropriate service for data migration to storage services  \\n• Selecting the appropriate storage tier  \\n• Selecting the correct data lifecycle for storage  \\n• Selecting the most cost -effective storage service for a workload  \\n \\n  ', metadata={'source': './docs/AWS-Certified-Solutions-Architect-Associate_Exam-Guide.pdf', 'page': 7}),\n",
              " Document(page_content=' \\n \\n \\n \\nVersion 1.0 SAA-C03  9 | PAGE  \\nTask Sta tement 2: Design cost -optimized compute solutions.  \\n \\nKnowledge of:  \\n• AWS cost management service features (for example, cost allocation tags, multi -account \\nbilling)  \\n• AWS cost management tools with appropriate use cases (for example, Cost Explorer, AWS \\nBudgets,  AWS Cost and Usage Report)  \\n• AWS global infrastructure (for example, Availability Zones, AWS Regions)  \\n• AWS purchasing options (for example, Spot Instances, Reserved Instances, Savings Plans)  \\n• Distributed compute strategies (for example, edge processing)  \\n• Hybri d compute options (for example, AWS Outposts, AWS Snowball Edge)  \\n• Instance types, families, and sizes (for example, memory optimized, compute optimized, \\nvirtualization)  \\n• Optimization of compute utilization (for example, containers, serverless computing, \\nmicroservices)  \\n• Scaling strategies (for example, auto scaling, hibernation)  \\n \\nSkills in:  \\n• Determining an appropriate load balancing strategy (for example, Application Load Balancer \\n[Layer 7 ] compared with  Network Load Balancer [ Layer 4 ] compared with  Gateway Load  \\nBalancer ) \\n• Determining appropriate scaling methods and strategies for elastic workloads (for example, \\nhorizontal compared with  vertical, EC2 hibernation)  \\n• Determining cost -effective AWS compute services with appropriate use cases (for example, \\nLambda, Amazo n EC2, Fargate)  \\n• Determining the required availability for different classes of workloads (for example, \\nproduction  workloads,  non-production  workloads ) \\n• Selecting the appropriate instance family for a workload  \\n• Selecting the appropriate instance size for a workload  \\n \\nTask Statement 3: Design cost -optimized database solutions.  \\n \\nKnowledge of:  \\n• AWS cost management service features (for example, cost allocation tags, multi -account \\nbilling)  \\n• AWS cost management tools with appropriate use cases (for example, Cost Exp lorer, AWS \\nBudgets, AWS Cost and Usage Report)  \\n• Caching strategies  \\n• Data retention policies  \\n• Database capacity planning (for example, capacity units)  \\n• Database connections and proxies  \\n• Database engines with appropriate use cases (for example, heterogeneous migr ations, \\nhomogeneous migrations)  \\n• Database replication (for example, read replicas)  \\n• Database types and services (for example, relational compared with non -relational, Aurora, \\nDynamoDB)  \\n  ', metadata={'source': './docs/AWS-Certified-Solutions-Architect-Associate_Exam-Guide.pdf', 'page': 8}),\n",
              " Document(page_content=' \\n \\n \\n \\nVersion 1.0 SAA-C03  10 | PAGE  \\nSkills in:  \\n• Designing appropriate backup and retention policies (for exa mple, snapshot frequency)  \\n• Determining an appropriate database engine (for example, MySQL compared with \\nPostgreSQL)  \\n• Determining cost -effective AWS database services with appropriate use cases (for example, \\nDynamoDB compared with  Amazon RDS, serverless)  \\n• Dete rmining cost -effective AWS database types (for example, time series  format , columnar  \\nformat)  \\n• Migrating database schemas and data to different locations and/or  different database  engines  \\n \\nTask Statement 4: Design cost -optimized network architectures.  \\n \\nKnowl edge of:  \\n• AWS cost management service features (for example, cost allocation tags, multi -account \\nbilling)  \\n• AWS cost management tools with appropriate use cases (for example, Cost Explorer, AWS \\nBudgets, AWS Cost and Usage Report)  \\n• Load balancing concepts (for example, Application Load Balancer)  \\n• NAT gateways (for example, NAT instance costs compared with NAT gateway costs)  \\n• Network connectivity (for example, private lines, dedicated lines, VPNs)  \\n• Network routing, topology, and peering (for example, AWS Transit Gat eway, VPC peering)  \\n• Network services with appropriate use cases (for example, DNS)  \\n \\nSkills in:  \\n• Configuring appropriate NAT gateway types for a network (for example, a single shared NAT \\ngateway compared with NAT gateways for each Availability Zone)  \\n• Configuri ng appropriate network connections (for example, Direct Connect compared with \\nVPN compared with internet)  \\n• Configuring appropriate network routes to minimize network transfer costs (for example, \\nRegion to Region, Availability Zone to Availability Zone, priv ate to public, Global Accelerator, \\nVPC endpoints)  \\n• Determining strategic needs for content delivery networks (CDNs) and edge caching  \\n• Reviewing existing workloads for network optimizations  \\n• Selecting an appropriate throttling strategy  \\n• Selecting the appropri ate bandwidth allocation for a network device (for example, a single \\nVPN compared with multiple VPNs, Direct Connect speed)  \\n \\n  ', metadata={'source': './docs/AWS-Certified-Solutions-Architect-Associate_Exam-Guide.pdf', 'page': 9}),\n",
              " Document(page_content=' \\n \\n \\n \\nVersion 1.0 SAA-C03  11 | PAGE  \\nAppendix  \\nWhich key tools, technologies, and concepts might be covered on the exam?  \\nThe following is a non -exhaustive list of the tools and technolog ies that could appear  on the exam. This list \\nis subject to change and is provided  to help you understand the general scope of services, features, or \\ntechnolog ies on the exam . The general tools and technologies in this list appear in no p articular order. \\nAWS services are grouped according to their primary functions. While some of these technologies will likely \\nbe covered more than others on the exam, the order and placement of them in this list is no indication of \\nrelative weight or import ance : \\n• Compute  \\n• Cost management  \\n• Database  \\n• Disaster recovery  \\n• High  performance  \\n• Management and governance  \\n• Microservices and component decoupling  \\n• Migration and data transfer  \\n• Networking, connectivity, and content delivery  \\n• Resiliency  \\n• Security  \\n• Serverless and event -driven design principles  \\n• Storage  \\nAWS services and features  \\nAnalytics:  \\n• Amazon Athena  \\n• AWS Data Exchange  \\n• AWS Data Pipeline  \\n• Amazon EMR  \\n• AWS Glue  \\n• Amazon Kinesis  \\n• AWS Lake Formation  \\n• Amazon Managed Streaming for Apache Kafka  (Amazon MSK)  \\n• Amazon OpenSearch  Service (Amazon Elasticsearch Service)  \\n• Amazon QuickSight  \\n• Amazon Redshift  \\n \\nApplication Integration : \\n• Amazon AppFlow  \\n• AWS AppSync  \\n• Amazon EventBridge  (Amazon CloudWatch Events)  \\n• Amazon MQ  \\n• Amazon Simple Notification Service ( Amazon SNS)  \\n• Amazon Simple Queue Service ( Amazon SQS)  \\n• AWS Step Functions  ', metadata={'source': './docs/AWS-Certified-Solutions-Architect-Associate_Exam-Guide.pdf', 'page': 10}),\n",
              " Document(page_content=' \\n \\n \\n \\nVersion 1.0 SAA-C03  12 | PAGE  \\nAWS Cost Management : \\n• AWS Budgets  \\n• AWS Cost and Usage Report  \\n• AWS Cost Explorer  \\n• Savings Plans  \\n \\nCompute:  \\n• AWS Batch  \\n• Amazon EC2  \\n• Amazon EC2 Auto Scaling  \\n• AWS  Elastic Beanstalk  \\n• AWS Outpost s \\n• AWS Serverless Application Reposito ry \\n• VMware Cloud on AWS  \\n• AWS Wavelength  \\n \\nContainers:  \\n• Amazon Elastic Container Registry  (Amazon ECR)  \\n• Amazon Elastic Container Service ( Amazon ECS)  \\n• Amazon ECS Anywhere  \\n• Amazon Elastic Kubernetes Service ( Amazon EKS) \\n• Amazon EKS Anywhere  \\n• Amazon EKS Distro  \\n \\nDatabase:  \\n• Amazon Aurora  \\n• Amazon Aurora Serverless  \\n• Amazon DocumentDB (with MongoDB compatibility)  \\n• Amazon DynamoDB  \\n• Amazon ElastiCache  \\n• Amazon Keyspaces (for Apache Cassandra)  \\n• Amazon Neptune  \\n• Amazon Quantum Ledger Database ( Amazon QLDB)  \\n• Amazon RDS  \\n• Amazon Redshi ft \\n• Amazon Timestream  \\n \\nDeveloper Tools:  \\n• AWS X -Ray \\n \\nFront -End Web and Mobile:  \\n• AWS Amplify  \\n• Amazon API Gateway  \\n• AWS Device Farm  \\n• Amazon Pinpoint  \\n \\n  ', metadata={'source': './docs/AWS-Certified-Solutions-Architect-Associate_Exam-Guide.pdf', 'page': 11}),\n",
              " Document(page_content=' \\n \\n \\n \\nVersion 1.0 SAA-C03  13 | PAGE  \\nMachine Learning:  \\n• Amazon Comprehend  \\n• Amazon Forecast  \\n• Amazon Fraud Detector  \\n• Amazon Kendra  \\n• Amazon Lex  \\n• Amazon Polly  \\n• Amazon Rekognition  \\n• Amazon SageMaker  \\n• Amazon Textract  \\n• Amazon Transcribe  \\n• Amazon Translate  \\n \\nManagement and Governance : \\n• AWS Auto Scaling  \\n• AWS CloudFormation  \\n• AWS CloudTrail  \\n• Amazon CloudWatch  \\n• AWS Command Line Interface  (AWS CLI)  \\n• AWS Compute Optimizer  \\n• AWS Config  \\n• AWS Control Tower  \\n• AWS License Manager  \\n• Amazon Managed Grafana  \\n• Amazon Managed Service for Prometheus  \\n• AWS Management Console  \\n• AWS Organizations  \\n• AWS Personal Health Dashboard  \\n• AWS Proton  \\n• AWS Service Catalog  \\n• AWS Systems Manager  \\n• AWS Trusted Advisor  \\n• AWS Well -Archit ected Tool  \\n \\nMedia Services:  \\n• Amazon Elastic Transcoder  \\n• Amazon Kinesis Video Streams  \\n \\nMigration and T ransfer:  \\n• AWS Application Discovery Service  \\n• AWS Application Migration Service (CloudEndure Migration)  \\n• AWS Database Migration Service  (AWS DMS)  \\n• AWS DataSync  \\n• AWS Migration Hub  \\n• AWS Server Migration Service  (AWS SMS)  \\n• AWS Snow Family  \\n• AWS Transfer Family  \\n ', metadata={'source': './docs/AWS-Certified-Solutions-Architect-Associate_Exam-Guide.pdf', 'page': 12}),\n",
              " Document(page_content=' \\n \\n \\n \\nVersion 1.0 SAA-C03  14 | PAGE  \\nNetworking and Content D elivery:  \\n• Amazon CloudFront  \\n• AWS Direct Connect  \\n• Elastic Load Balancing (ELB)  \\n• AWS Global Accelerator  \\n• AWS PrivateLink  \\n• Amazon Route 53  \\n• AWS Tran sit Gateway  \\n• Amazon VPC  \\n• AWS VPN \\n \\nSecurity, Identity, and C ompliance:  \\n• AWS Artifact  \\n• AWS Audit Manager  \\n• AWS Certificate Manager (ACM)  \\n• AWS CloudHSM  \\n• Amazon Cognito  \\n• Amazon Detective  \\n• AWS Directory Service  \\n• AWS Firewall Manager  \\n• Amazon GuardDuty  \\n• AWS Identity and Access Management (IAM)  \\n• Amazon Inspector  \\n• AWS Key Management Service (AWS KMS)  \\n• Amazon Macie  \\n• AWS Network Firewall  \\n• AWS Resource Access Manager  (AWS RAM)  \\n• AWS Secrets Manager  \\n• AWS Security Hub  \\n• AWS Shield  \\n• AWS Single Sign -On \\n• AWS WAF  \\n \\nServerless:  \\n• AWS AppSync  \\n• AWS Fa rgate  \\n• AWS Lambda  \\n \\nStorage:  \\n• AWS Backup  \\n• Amazon Elastic Block Store ( Amazon EBS ) \\n• Amazon Elastic File System ( Amazon EFS ) \\n• Amazon FSx (for all types)  \\n• Amazon S3  \\n• Amazon S3 Glacier  \\n• AWS Storage Gateway  \\n \\n  ', metadata={'source': './docs/AWS-Certified-Solutions-Architect-Associate_Exam-Guide.pdf', 'page': 13}),\n",
              " Document(page_content=' \\n \\n \\n \\nVersion 1.0 SAA-C03  15 | PAGE  \\nOut-of-scope AWS services and features  \\nThe following is a non-exhaustive list of AWS services and features that are not covered on the exam. \\nThese services and features do not represent every AWS offering that is excluded from the exam content.  \\nAnalytics:  \\n• Amazon CloudSearch  \\n \\nApplication Integration:  \\n• Amazon Managed Workflows for Apache Airflow (Amazon MWAA)  \\n \\nAR and VR:  \\n• Amazon Sumerian  \\n \\nBlockchain:  \\n• Amazon Managed Blockchain  \\n \\nCompute : \\n• Amazon Lightsail  \\n \\nDatabase : \\n• Amazon RDS on VMware  \\n \\nDeveloper Tools:  \\n• AWS Cloud9  \\n• AWS Cloud Development Kit ( AWS CDK)  \\n• AWS CloudShell  \\n• AWS CodeArtifact  \\n• AWS CodeBuild  \\n• AWS CodeCommit  \\n• AWS CodeDeploy  \\n• Amazon CodeGuru  \\n• AWS CodeStar  \\n• Amazon Corretto  \\n• AWS Fault Injection Simulator  (AWS FIS)  \\n• AWS Tools and SDKs  \\n \\nFront -End Web and Mobile:  \\n• Amazon Location Service  \\n \\nGame Tech:  \\n• Amazon GameLift  \\n• Amazon Lumberyard  \\n \\nInternet of Things:  \\n• All services  \\n  ', metadata={'source': './docs/AWS-Certified-Solutions-Architect-Associate_Exam-Guide.pdf', 'page': 14}),\n",
              " Document(page_content=' \\n \\n \\n \\nVersion 1.0 SAA-C03  16 | PAGE  \\nMachine Learning:  \\n• Apache MXNet on AWS  \\n• Amazon Augmented AI  (Amazon A2I)  \\n• AWS DeepComposer  \\n• AWS Deep Learning AMIs (DLAMI)  \\n• AWS Deep Learning Containers  \\n• AWS DeepLens  \\n• AWS DeepRacer  \\n• Amazon DevOps Guru  \\n• Amazon E lastic Inference  \\n• Amazon Health Lake \\n• AWS Inferentia  \\n• Amazon Lookout for Equipment  \\n• Amazon Lookout for Metrics  \\n• Amazon Lookout for Vision  \\n• Amazon Monitron  \\n• AWS Panorama  \\n• Amazon Personalize  \\n• PyTorch on AWS  \\n• Amazon SageMaker Data Wrangler  \\n• Amazon SageMaker Ground Truth  \\n• TensorFlow on AWS  \\n \\nManagement and Governance:  \\n• AWS Chatbot  \\n• AWS Console Mobile Application  \\n• AWS Distro for OpenTelemetry  \\n• AWS OpsWorks  \\n \\nMedia Services:  \\n• AWS Elemental Appliances and Software  \\n• AWS Elemental MediaConnect  \\n• AWS Elemental MediaConvert  \\n• AWS Elemental M ediaLive  \\n• AWS Elemental MediaPackage  \\n• AWS Elemental MediaStore  \\n• AWS Elemental MediaTailor  \\n• Amazon Interactive Video Service (Amazon IVS)  \\n \\nMigration and Transfer:  \\n• Migration Evaluator (formerly TSO Logic)  \\n \\nNetworking and Content Delivery : \\n• AWS App Mesh  \\n• AWS Cloud Map \\n \\n  ', metadata={'source': './docs/AWS-Certified-Solutions-Architect-Associate_Exam-Guide.pdf', 'page': 15}),\n",
              " Document(page_content=' \\n \\n \\n \\nVersion 1.0 SAA-C03  17 | PAGE  \\nQuantum Technologies:  \\n• Amazon Braket  \\n \\nRobotics:  \\n• AWS RoboMaker  \\n \\nSatellite:  \\n• AWS  Ground Station  ', metadata={'source': './docs/AWS-Certified-Solutions-Architect-Associate_Exam-Guide.pdf', 'page': 16})]"
            ]
          },
          "metadata": {},
          "execution_count": 7
        }
      ]
    },
    {
      "cell_type": "code",
      "source": [
        "len(document)"
      ],
      "metadata": {
        "colab": {
          "base_uri": "https://localhost:8080/"
        },
        "id": "pl_goJZux7o3",
        "outputId": "7413a71b-f2bb-44e9-f379-fea5eeb49961"
      },
      "execution_count": null,
      "outputs": [
        {
          "output_type": "execute_result",
          "data": {
            "text/plain": [
              "67"
            ]
          },
          "metadata": {},
          "execution_count": 8
        }
      ]
    },
    {
      "cell_type": "markdown",
      "source": [
        "## Split Document into chunks"
      ],
      "metadata": {
        "id": "MD2qnh9cyq40"
      }
    },
    {
      "cell_type": "code",
      "source": [
        "document_splitter = CharacterTextSplitter(chunk_size=500, chunk_overlap=0)\n",
        "document_chunks = document_splitter.split_documents(document)\n",
        "len(document_chunks)"
      ],
      "metadata": {
        "colab": {
          "base_uri": "https://localhost:8080/"
        },
        "id": "SwkGgF0ByCjZ",
        "outputId": "6430c73c-cf40-41c3-89ca-30756a5aa9c6"
      },
      "execution_count": null,
      "outputs": [
        {
          "output_type": "execute_result",
          "data": {
            "text/plain": [
              "67"
            ]
          },
          "metadata": {},
          "execution_count": 9
        }
      ]
    },
    {
      "cell_type": "code",
      "source": [
        "document_chunks[0]"
      ],
      "metadata": {
        "colab": {
          "base_uri": "https://localhost:8080/"
        },
        "id": "-PLafvnbyZdJ",
        "outputId": "6c641c26-8b27-46f3-b4c8-e9c4738bb407"
      },
      "execution_count": null,
      "outputs": [
        {
          "output_type": "execute_result",
          "data": {
            "text/plain": [
              "Document(page_content='Architecting for the Cloud  \\nAWS Best Practices  \\nOctober  2018', metadata={'source': './docs/AWS_Cloud_Best_Practices.pdf', 'page': 0})"
            ]
          },
          "metadata": {},
          "execution_count": 10
        }
      ]
    },
    {
      "cell_type": "markdown",
      "source": [
        "## Download Embeddings"
      ],
      "metadata": {
        "id": "p59H9sutyicC"
      }
    },
    {
      "cell_type": "code",
      "source": [
        "# Cost associated with using OpenAI\n",
        "# os.environ[\"OPENAI_API_KEY\"] = \"abc123\"\n",
        "# embeddings = OpenAIEmbeddings()"
      ],
      "metadata": {
        "id": "rNHodKvIzT7G"
      },
      "execution_count": null,
      "outputs": []
    },
    {
      "cell_type": "code",
      "source": [
        "embeddings = HuggingFaceEmbeddings(model_name=\"sentence-transformers/all-MiniLM-L6-v2\")"
      ],
      "metadata": {
        "id": "o4hAsljEycqu"
      },
      "execution_count": null,
      "outputs": []
    },
    {
      "cell_type": "code",
      "source": [
        "embeddings"
      ],
      "metadata": {
        "colab": {
          "base_uri": "https://localhost:8080/"
        },
        "id": "SfKrfRrmzF-W",
        "outputId": "03d7b0e0-7c1a-4f9f-89ae-cbf4d1a68c54"
      },
      "execution_count": null,
      "outputs": [
        {
          "output_type": "execute_result",
          "data": {
            "text/plain": [
              "HuggingFaceEmbeddings(client=SentenceTransformer(\n",
              "  (0): Transformer({'max_seq_length': 256, 'do_lower_case': False}) with Transformer model: BertModel \n",
              "  (1): Pooling({'word_embedding_dimension': 384, 'pooling_mode_cls_token': False, 'pooling_mode_mean_tokens': True, 'pooling_mode_max_tokens': False, 'pooling_mode_mean_sqrt_len_tokens': False})\n",
              "  (2): Normalize()\n",
              "), model_name='sentence-transformers/all-MiniLM-L6-v2', cache_folder=None, model_kwargs={}, encode_kwargs={}, multi_process=False)"
            ]
          },
          "metadata": {},
          "execution_count": 13
        }
      ]
    },
    {
      "cell_type": "markdown",
      "source": [
        "## Set up Chroma Vector Db"
      ],
      "metadata": {
        "id": "KjgWiCgqzyrc"
      }
    },
    {
      "cell_type": "code",
      "source": [
        "vectordb = Chroma.from_documents(document_chunks, embedding=embeddings, persist_directory=\"./data\")"
      ],
      "metadata": {
        "id": "PVmTZJEizniR"
      },
      "execution_count": null,
      "outputs": []
    },
    {
      "cell_type": "code",
      "source": [
        "vectordb.persist()"
      ],
      "metadata": {
        "id": "b2vF41e_0TRl"
      },
      "execution_count": null,
      "outputs": []
    },
    {
      "cell_type": "markdown",
      "source": [
        "## Login to HuggingFace Hub and download LLM"
      ],
      "metadata": {
        "id": "1UvTcVNW0ZX4"
      }
    },
    {
      "cell_type": "code",
      "source": [
        "notebook_login()"
      ],
      "metadata": {
        "colab": {
          "base_uri": "https://localhost:8080/",
          "height": 145,
          "referenced_widgets": [
            "e37b58ccebc347178d8bb75a7a1f7c01",
            "0666c90451e04194bebc7d4eed8dae08",
            "6b569bde878d4318944095229c723a34",
            "bbbcdce502c64b4794bc36b9a4f34307",
            "dc2dc59ce3e14829ae04a1620cfecfe4",
            "7e698fad49474bf78d51dc8078f63ddb",
            "3e1561dca7f04f0cbc9f9daba344eb67",
            "5886f535d3b24162b423bb78ea275eab",
            "5afda20747ee4b6a9cc64833783e36b5",
            "ac60ad8a581e4e8e9a10355b13fc4770",
            "d6aba1571ac0425285b4d8eeeb492ee9",
            "40f0bad2829b47238a03dd5c0ba378ee",
            "01f9adc708f444be8f6e335722d89bd6",
            "945e3f2490f74480a61cbed804aa0476",
            "2619cc0415b54608987c5cf60c960651",
            "1357628e80434e5dbd67adfcb9f395fe",
            "2d6a21a75bb64a9fa228ac2ea969ea96",
            "0f60d526e31840a8848a6ea757fdddb9",
            "4e2818810b064c5488c42aaefa6c1a48",
            "921159d8d9e44cec82ebb66046172d7d",
            "4299063299de4e93881ef90d1c7d7600",
            "5201ae7302504a5c99fee51a24f6b31c",
            "5bca50409a42494884cec8317a311648",
            "2190f031ca0b4e6687dfbf6f1abaf358",
            "8467eca841e74475876165b976b5855f",
            "a463964135c14f849ff4e2204293056a",
            "fb9c58290b4c468fa81a10e84246baa8",
            "bc6c62445c0a45989e1a4412b4967ffe",
            "05023164ca38436f93b1ed900f0b723e",
            "b08fe869b38441e3b2b22326cbf719e6",
            "ea0f93514bfd446ab3f7342ccda43ed4",
            "2023d45d07434eb9b9c592c719d0faf8"
          ]
        },
        "id": "cYEJlhJK0WmX",
        "outputId": "7db34c7c-5bcd-45c6-c287-667db4c61749"
      },
      "execution_count": null,
      "outputs": [
        {
          "output_type": "display_data",
          "data": {
            "text/plain": [
              "VBox(children=(HTML(value='<center> <img\\nsrc=https://huggingface.co/front/assets/huggingface_logo-noborder.sv…"
            ],
            "application/vnd.jupyter.widget-view+json": {
              "version_major": 2,
              "version_minor": 0,
              "model_id": "e37b58ccebc347178d8bb75a7a1f7c01"
            }
          },
          "metadata": {}
        }
      ]
    },
    {
      "cell_type": "markdown",
      "source": [
        "## Download Llama 2 7B LLM"
      ],
      "metadata": {
        "id": "iiXQIgLD2gIp"
      }
    },
    {
      "cell_type": "code",
      "source": [
        "# tokenizer = AutoTokenizer.from_pretrained(\n",
        "#     \"meta-llama/Llama-2-7b-chat-hf\",\n",
        "#     use_auth_token=True,\n",
        "#     )\n",
        "\n",
        "# model = AutoModelForCausalLM.from_pretrained(\n",
        "#     \"meta-llama/Llama-2-7b-chat-hf\",\n",
        "#     use_auth_token=True,\n",
        "#     torch_dtype=torch.float16,\n",
        "#     # load_in_8bit=True,\n",
        "#     load_in_4bit=True,\n",
        "# )"
      ],
      "metadata": {
        "id": "w1nsw0ec2FPl"
      },
      "execution_count": null,
      "outputs": []
    }
  ]
}