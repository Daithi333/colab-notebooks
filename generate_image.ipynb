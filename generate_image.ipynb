{
  "nbformat": 4,
  "nbformat_minor": 0,
  "metadata": {
    "colab": {
      "provenance": [],
      "authorship_tag": "ABX9TyOKmDtgCrwTEbGqHDaZDfOY",
      "include_colab_link": true
    },
    "kernelspec": {
      "name": "python3",
      "display_name": "Python 3"
    },
    "language_info": {
      "name": "python"
    }
  },
  "cells": [
    {
      "cell_type": "markdown",
      "metadata": {
        "id": "view-in-github",
        "colab_type": "text"
      },
      "source": [
        "<a href=\"https://colab.research.google.com/github/Daithi333/colab-notebooks/blob/main/generate_image.ipynb\" target=\"_parent\"><img src=\"https://colab.research.google.com/assets/colab-badge.svg\" alt=\"Open In Colab\"/></a>"
      ]
    },
    {
      "cell_type": "markdown",
      "source": [
        "# Install Dependencies"
      ],
      "metadata": {
        "id": "QhuBDYKzphoZ"
      }
    },
    {
      "cell_type": "code",
      "execution_count": 1,
      "metadata": {
        "id": "pDviAw7SpEl6"
      },
      "outputs": [],
      "source": [
        "!pip -q install openai\n",
        "!pip -q install Pillow"
      ]
    },
    {
      "cell_type": "code",
      "source": [
        "import os\n",
        "import requests\n",
        "\n",
        "import openai\n",
        "from PIL import Image\n",
        "from google.colab import files"
      ],
      "metadata": {
        "id": "LbR6z8D4pn08"
      },
      "execution_count": 2,
      "outputs": []
    },
    {
      "cell_type": "code",
      "source": [
        "# Cost associated with using OpenAI\n",
        "openai.api_key = input(f\"Enter OpenAI key:\")"
      ],
      "metadata": {
        "id": "9gZnIJVOp2Oc"
      },
      "execution_count": null,
      "outputs": []
    },
    {
      "cell_type": "code",
      "source": [
        "user_input = input(f\"What image would you like produced?\")"
      ],
      "metadata": {
        "colab": {
          "base_uri": "https://localhost:8080/"
        },
        "id": "J2CUEe5Tramc",
        "outputId": "6a935654-af31-426d-b03a-8a825e6ae3de"
      },
      "execution_count": 9,
      "outputs": [
        {
          "name": "stdout",
          "output_type": "stream",
          "text": [
            "What image would you like produced?adult red toy poodle beside an adult golden retriever, but sizes are reversed\n"
          ]
        }
      ]
    },
    {
      "cell_type": "code",
      "source": [
        "response = openai.Image.create(\n",
        "    prompt=user_input,\n",
        "    n=1,\n",
        "    size=\"1024x1024\"\n",
        ")"
      ],
      "metadata": {
        "id": "jl76ZyoJsDP2"
      },
      "execution_count": 10,
      "outputs": []
    },
    {
      "cell_type": "code",
      "source": [
        "image_url = response['data'][0]['url']\n",
        "print(image_url)"
      ],
      "metadata": {
        "colab": {
          "base_uri": "https://localhost:8080/"
        },
        "id": "GsEk4OaiuHJF",
        "outputId": "4810836f-ab0b-4660-fa25-2bf839c5e69a"
      },
      "execution_count": 11,
      "outputs": [
        {
          "output_type": "stream",
          "name": "stdout",
          "text": [
            "https://oaidalleapiprodscus.blob.core.windows.net/private/org-8aYz5iqmVA4dJZxyYs3DZoGT/user-stygc63uBLo3d4uFOFH1F0qt/img-jtmUe7L2ubhJqxLEaEXOyC5Z.png?st=2023-10-01T14%3A04%3A49Z&se=2023-10-01T16%3A04%3A49Z&sp=r&sv=2021-08-06&sr=b&rscd=inline&rsct=image/png&skoid=6aaadede-4fb3-4698-a8f6-684d7786b067&sktid=a48cca56-e6da-484e-a814-9c849652bcb3&skt=2023-10-01T03%3A49%3A52Z&ske=2023-10-02T03%3A49%3A52Z&sks=b&skv=2021-08-06&sig=9rhA2qEAE1Lg99tb2p7pIBgE/kEDl16BIPv9kmIcENI%3D\n"
          ]
        }
      ]
    },
    {
      "cell_type": "code",
      "source": [
        "img_data = requests.get(image_url).content\n",
        "with open('image.jpg', 'wb') as handler:\n",
        "    handler.write(img_data)\n"
      ],
      "metadata": {
        "id": "0HqiUBxOveID"
      },
      "execution_count": 16,
      "outputs": []
    },
    {
      "cell_type": "code",
      "source": [
        "im = Image.open(\"image.jpg\")\n",
        "im.show()"
      ],
      "metadata": {
        "id": "fXr1ea9Bt2X8"
      },
      "execution_count": 22,
      "outputs": []
    }
  ]
}